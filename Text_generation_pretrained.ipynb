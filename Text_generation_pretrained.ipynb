{
  "nbformat": 4,
  "nbformat_minor": 0,
  "metadata": {
    "colab": {
      "provenance": [],
      "gpuType": "T4",
      "toc_visible": true
    },
    "kernelspec": {
      "name": "python3",
      "display_name": "Python 3"
    },
    "language_info": {
      "name": "python"
    },
    "accelerator": "GPU",
    "widgets": {
      "application/vnd.jupyter.widget-state+json": {
        "aefb811ed3284091b0bb95322e6b2a9e": {
          "model_module": "@jupyter-widgets/controls",
          "model_name": "HBoxModel",
          "model_module_version": "1.5.0",
          "state": {
            "_dom_classes": [],
            "_model_module": "@jupyter-widgets/controls",
            "_model_module_version": "1.5.0",
            "_model_name": "HBoxModel",
            "_view_count": null,
            "_view_module": "@jupyter-widgets/controls",
            "_view_module_version": "1.5.0",
            "_view_name": "HBoxView",
            "box_style": "",
            "children": [
              "IPY_MODEL_7267d26bfcc94767891bd8292d9d517a",
              "IPY_MODEL_650b7d5cd7564e639dd2c8c2298d47e8",
              "IPY_MODEL_bc933448fc8f47909ad2934f1a42562f"
            ],
            "layout": "IPY_MODEL_8fb2236297aa43b985aa0a1d979e3e93"
          }
        },
        "7267d26bfcc94767891bd8292d9d517a": {
          "model_module": "@jupyter-widgets/controls",
          "model_name": "HTMLModel",
          "model_module_version": "1.5.0",
          "state": {
            "_dom_classes": [],
            "_model_module": "@jupyter-widgets/controls",
            "_model_module_version": "1.5.0",
            "_model_name": "HTMLModel",
            "_view_count": null,
            "_view_module": "@jupyter-widgets/controls",
            "_view_module_version": "1.5.0",
            "_view_name": "HTMLView",
            "description": "",
            "description_tooltip": null,
            "layout": "IPY_MODEL_c5be2ce476244926a90865fa0ddf6828",
            "placeholder": "​",
            "style": "IPY_MODEL_2e9712e4526741a48ca233c8cdd9e894",
            "value": "vocab.json: 100%"
          }
        },
        "650b7d5cd7564e639dd2c8c2298d47e8": {
          "model_module": "@jupyter-widgets/controls",
          "model_name": "FloatProgressModel",
          "model_module_version": "1.5.0",
          "state": {
            "_dom_classes": [],
            "_model_module": "@jupyter-widgets/controls",
            "_model_module_version": "1.5.0",
            "_model_name": "FloatProgressModel",
            "_view_count": null,
            "_view_module": "@jupyter-widgets/controls",
            "_view_module_version": "1.5.0",
            "_view_name": "ProgressView",
            "bar_style": "success",
            "description": "",
            "description_tooltip": null,
            "layout": "IPY_MODEL_29cfd69cb4b0474ba85f4450b97455d9",
            "max": 1042301,
            "min": 0,
            "orientation": "horizontal",
            "style": "IPY_MODEL_5a430881227147b2b752deb404ef6ec7",
            "value": 1042301
          }
        },
        "bc933448fc8f47909ad2934f1a42562f": {
          "model_module": "@jupyter-widgets/controls",
          "model_name": "HTMLModel",
          "model_module_version": "1.5.0",
          "state": {
            "_dom_classes": [],
            "_model_module": "@jupyter-widgets/controls",
            "_model_module_version": "1.5.0",
            "_model_name": "HTMLModel",
            "_view_count": null,
            "_view_module": "@jupyter-widgets/controls",
            "_view_module_version": "1.5.0",
            "_view_name": "HTMLView",
            "description": "",
            "description_tooltip": null,
            "layout": "IPY_MODEL_b5e933a765c542489791138aac4d72d4",
            "placeholder": "​",
            "style": "IPY_MODEL_58050b38f40f4dda9e9dc6a3340aea5f",
            "value": " 1.04M/1.04M [00:00&lt;00:00, 12.5MB/s]"
          }
        },
        "8fb2236297aa43b985aa0a1d979e3e93": {
          "model_module": "@jupyter-widgets/base",
          "model_name": "LayoutModel",
          "model_module_version": "1.2.0",
          "state": {
            "_model_module": "@jupyter-widgets/base",
            "_model_module_version": "1.2.0",
            "_model_name": "LayoutModel",
            "_view_count": null,
            "_view_module": "@jupyter-widgets/base",
            "_view_module_version": "1.2.0",
            "_view_name": "LayoutView",
            "align_content": null,
            "align_items": null,
            "align_self": null,
            "border": null,
            "bottom": null,
            "display": null,
            "flex": null,
            "flex_flow": null,
            "grid_area": null,
            "grid_auto_columns": null,
            "grid_auto_flow": null,
            "grid_auto_rows": null,
            "grid_column": null,
            "grid_gap": null,
            "grid_row": null,
            "grid_template_areas": null,
            "grid_template_columns": null,
            "grid_template_rows": null,
            "height": null,
            "justify_content": null,
            "justify_items": null,
            "left": null,
            "margin": null,
            "max_height": null,
            "max_width": null,
            "min_height": null,
            "min_width": null,
            "object_fit": null,
            "object_position": null,
            "order": null,
            "overflow": null,
            "overflow_x": null,
            "overflow_y": null,
            "padding": null,
            "right": null,
            "top": null,
            "visibility": null,
            "width": null
          }
        },
        "c5be2ce476244926a90865fa0ddf6828": {
          "model_module": "@jupyter-widgets/base",
          "model_name": "LayoutModel",
          "model_module_version": "1.2.0",
          "state": {
            "_model_module": "@jupyter-widgets/base",
            "_model_module_version": "1.2.0",
            "_model_name": "LayoutModel",
            "_view_count": null,
            "_view_module": "@jupyter-widgets/base",
            "_view_module_version": "1.2.0",
            "_view_name": "LayoutView",
            "align_content": null,
            "align_items": null,
            "align_self": null,
            "border": null,
            "bottom": null,
            "display": null,
            "flex": null,
            "flex_flow": null,
            "grid_area": null,
            "grid_auto_columns": null,
            "grid_auto_flow": null,
            "grid_auto_rows": null,
            "grid_column": null,
            "grid_gap": null,
            "grid_row": null,
            "grid_template_areas": null,
            "grid_template_columns": null,
            "grid_template_rows": null,
            "height": null,
            "justify_content": null,
            "justify_items": null,
            "left": null,
            "margin": null,
            "max_height": null,
            "max_width": null,
            "min_height": null,
            "min_width": null,
            "object_fit": null,
            "object_position": null,
            "order": null,
            "overflow": null,
            "overflow_x": null,
            "overflow_y": null,
            "padding": null,
            "right": null,
            "top": null,
            "visibility": null,
            "width": null
          }
        },
        "2e9712e4526741a48ca233c8cdd9e894": {
          "model_module": "@jupyter-widgets/controls",
          "model_name": "DescriptionStyleModel",
          "model_module_version": "1.5.0",
          "state": {
            "_model_module": "@jupyter-widgets/controls",
            "_model_module_version": "1.5.0",
            "_model_name": "DescriptionStyleModel",
            "_view_count": null,
            "_view_module": "@jupyter-widgets/base",
            "_view_module_version": "1.2.0",
            "_view_name": "StyleView",
            "description_width": ""
          }
        },
        "29cfd69cb4b0474ba85f4450b97455d9": {
          "model_module": "@jupyter-widgets/base",
          "model_name": "LayoutModel",
          "model_module_version": "1.2.0",
          "state": {
            "_model_module": "@jupyter-widgets/base",
            "_model_module_version": "1.2.0",
            "_model_name": "LayoutModel",
            "_view_count": null,
            "_view_module": "@jupyter-widgets/base",
            "_view_module_version": "1.2.0",
            "_view_name": "LayoutView",
            "align_content": null,
            "align_items": null,
            "align_self": null,
            "border": null,
            "bottom": null,
            "display": null,
            "flex": null,
            "flex_flow": null,
            "grid_area": null,
            "grid_auto_columns": null,
            "grid_auto_flow": null,
            "grid_auto_rows": null,
            "grid_column": null,
            "grid_gap": null,
            "grid_row": null,
            "grid_template_areas": null,
            "grid_template_columns": null,
            "grid_template_rows": null,
            "height": null,
            "justify_content": null,
            "justify_items": null,
            "left": null,
            "margin": null,
            "max_height": null,
            "max_width": null,
            "min_height": null,
            "min_width": null,
            "object_fit": null,
            "object_position": null,
            "order": null,
            "overflow": null,
            "overflow_x": null,
            "overflow_y": null,
            "padding": null,
            "right": null,
            "top": null,
            "visibility": null,
            "width": null
          }
        },
        "5a430881227147b2b752deb404ef6ec7": {
          "model_module": "@jupyter-widgets/controls",
          "model_name": "ProgressStyleModel",
          "model_module_version": "1.5.0",
          "state": {
            "_model_module": "@jupyter-widgets/controls",
            "_model_module_version": "1.5.0",
            "_model_name": "ProgressStyleModel",
            "_view_count": null,
            "_view_module": "@jupyter-widgets/base",
            "_view_module_version": "1.2.0",
            "_view_name": "StyleView",
            "bar_color": null,
            "description_width": ""
          }
        },
        "b5e933a765c542489791138aac4d72d4": {
          "model_module": "@jupyter-widgets/base",
          "model_name": "LayoutModel",
          "model_module_version": "1.2.0",
          "state": {
            "_model_module": "@jupyter-widgets/base",
            "_model_module_version": "1.2.0",
            "_model_name": "LayoutModel",
            "_view_count": null,
            "_view_module": "@jupyter-widgets/base",
            "_view_module_version": "1.2.0",
            "_view_name": "LayoutView",
            "align_content": null,
            "align_items": null,
            "align_self": null,
            "border": null,
            "bottom": null,
            "display": null,
            "flex": null,
            "flex_flow": null,
            "grid_area": null,
            "grid_auto_columns": null,
            "grid_auto_flow": null,
            "grid_auto_rows": null,
            "grid_column": null,
            "grid_gap": null,
            "grid_row": null,
            "grid_template_areas": null,
            "grid_template_columns": null,
            "grid_template_rows": null,
            "height": null,
            "justify_content": null,
            "justify_items": null,
            "left": null,
            "margin": null,
            "max_height": null,
            "max_width": null,
            "min_height": null,
            "min_width": null,
            "object_fit": null,
            "object_position": null,
            "order": null,
            "overflow": null,
            "overflow_x": null,
            "overflow_y": null,
            "padding": null,
            "right": null,
            "top": null,
            "visibility": null,
            "width": null
          }
        },
        "58050b38f40f4dda9e9dc6a3340aea5f": {
          "model_module": "@jupyter-widgets/controls",
          "model_name": "DescriptionStyleModel",
          "model_module_version": "1.5.0",
          "state": {
            "_model_module": "@jupyter-widgets/controls",
            "_model_module_version": "1.5.0",
            "_model_name": "DescriptionStyleModel",
            "_view_count": null,
            "_view_module": "@jupyter-widgets/base",
            "_view_module_version": "1.2.0",
            "_view_name": "StyleView",
            "description_width": ""
          }
        },
        "66b0fb7204a64ca592f1dc1f68ed71ac": {
          "model_module": "@jupyter-widgets/controls",
          "model_name": "HBoxModel",
          "model_module_version": "1.5.0",
          "state": {
            "_dom_classes": [],
            "_model_module": "@jupyter-widgets/controls",
            "_model_module_version": "1.5.0",
            "_model_name": "HBoxModel",
            "_view_count": null,
            "_view_module": "@jupyter-widgets/controls",
            "_view_module_version": "1.5.0",
            "_view_name": "HBoxView",
            "box_style": "",
            "children": [
              "IPY_MODEL_0547dad68b0648829dbf8790c826d138",
              "IPY_MODEL_a227f7471be44839891d8fa55cec7cbe",
              "IPY_MODEL_e1130682537241b49eb2c98fb1ee38cb"
            ],
            "layout": "IPY_MODEL_5ff35ceede174f26a19475d02bf8aa05"
          }
        },
        "0547dad68b0648829dbf8790c826d138": {
          "model_module": "@jupyter-widgets/controls",
          "model_name": "HTMLModel",
          "model_module_version": "1.5.0",
          "state": {
            "_dom_classes": [],
            "_model_module": "@jupyter-widgets/controls",
            "_model_module_version": "1.5.0",
            "_model_name": "HTMLModel",
            "_view_count": null,
            "_view_module": "@jupyter-widgets/controls",
            "_view_module_version": "1.5.0",
            "_view_name": "HTMLView",
            "description": "",
            "description_tooltip": null,
            "layout": "IPY_MODEL_76e36d7642e84882a07c3ef346d9660c",
            "placeholder": "​",
            "style": "IPY_MODEL_d34a25e19ecc465d8bac88fdc06a7ebc",
            "value": "merges.txt: 100%"
          }
        },
        "a227f7471be44839891d8fa55cec7cbe": {
          "model_module": "@jupyter-widgets/controls",
          "model_name": "FloatProgressModel",
          "model_module_version": "1.5.0",
          "state": {
            "_dom_classes": [],
            "_model_module": "@jupyter-widgets/controls",
            "_model_module_version": "1.5.0",
            "_model_name": "FloatProgressModel",
            "_view_count": null,
            "_view_module": "@jupyter-widgets/controls",
            "_view_module_version": "1.5.0",
            "_view_name": "ProgressView",
            "bar_style": "success",
            "description": "",
            "description_tooltip": null,
            "layout": "IPY_MODEL_3cec94fafb104fe7bb86afebc35b961b",
            "max": 456318,
            "min": 0,
            "orientation": "horizontal",
            "style": "IPY_MODEL_b5b8f04b9da04254b257954ec044cd33",
            "value": 456318
          }
        },
        "e1130682537241b49eb2c98fb1ee38cb": {
          "model_module": "@jupyter-widgets/controls",
          "model_name": "HTMLModel",
          "model_module_version": "1.5.0",
          "state": {
            "_dom_classes": [],
            "_model_module": "@jupyter-widgets/controls",
            "_model_module_version": "1.5.0",
            "_model_name": "HTMLModel",
            "_view_count": null,
            "_view_module": "@jupyter-widgets/controls",
            "_view_module_version": "1.5.0",
            "_view_name": "HTMLView",
            "description": "",
            "description_tooltip": null,
            "layout": "IPY_MODEL_c71682f045a642838f84a82ea4861cdd",
            "placeholder": "​",
            "style": "IPY_MODEL_c34c24ec3dae4e3d9cbf1ebac5f6e500",
            "value": " 456k/456k [00:00&lt;00:00, 11.1MB/s]"
          }
        },
        "5ff35ceede174f26a19475d02bf8aa05": {
          "model_module": "@jupyter-widgets/base",
          "model_name": "LayoutModel",
          "model_module_version": "1.2.0",
          "state": {
            "_model_module": "@jupyter-widgets/base",
            "_model_module_version": "1.2.0",
            "_model_name": "LayoutModel",
            "_view_count": null,
            "_view_module": "@jupyter-widgets/base",
            "_view_module_version": "1.2.0",
            "_view_name": "LayoutView",
            "align_content": null,
            "align_items": null,
            "align_self": null,
            "border": null,
            "bottom": null,
            "display": null,
            "flex": null,
            "flex_flow": null,
            "grid_area": null,
            "grid_auto_columns": null,
            "grid_auto_flow": null,
            "grid_auto_rows": null,
            "grid_column": null,
            "grid_gap": null,
            "grid_row": null,
            "grid_template_areas": null,
            "grid_template_columns": null,
            "grid_template_rows": null,
            "height": null,
            "justify_content": null,
            "justify_items": null,
            "left": null,
            "margin": null,
            "max_height": null,
            "max_width": null,
            "min_height": null,
            "min_width": null,
            "object_fit": null,
            "object_position": null,
            "order": null,
            "overflow": null,
            "overflow_x": null,
            "overflow_y": null,
            "padding": null,
            "right": null,
            "top": null,
            "visibility": null,
            "width": null
          }
        },
        "76e36d7642e84882a07c3ef346d9660c": {
          "model_module": "@jupyter-widgets/base",
          "model_name": "LayoutModel",
          "model_module_version": "1.2.0",
          "state": {
            "_model_module": "@jupyter-widgets/base",
            "_model_module_version": "1.2.0",
            "_model_name": "LayoutModel",
            "_view_count": null,
            "_view_module": "@jupyter-widgets/base",
            "_view_module_version": "1.2.0",
            "_view_name": "LayoutView",
            "align_content": null,
            "align_items": null,
            "align_self": null,
            "border": null,
            "bottom": null,
            "display": null,
            "flex": null,
            "flex_flow": null,
            "grid_area": null,
            "grid_auto_columns": null,
            "grid_auto_flow": null,
            "grid_auto_rows": null,
            "grid_column": null,
            "grid_gap": null,
            "grid_row": null,
            "grid_template_areas": null,
            "grid_template_columns": null,
            "grid_template_rows": null,
            "height": null,
            "justify_content": null,
            "justify_items": null,
            "left": null,
            "margin": null,
            "max_height": null,
            "max_width": null,
            "min_height": null,
            "min_width": null,
            "object_fit": null,
            "object_position": null,
            "order": null,
            "overflow": null,
            "overflow_x": null,
            "overflow_y": null,
            "padding": null,
            "right": null,
            "top": null,
            "visibility": null,
            "width": null
          }
        },
        "d34a25e19ecc465d8bac88fdc06a7ebc": {
          "model_module": "@jupyter-widgets/controls",
          "model_name": "DescriptionStyleModel",
          "model_module_version": "1.5.0",
          "state": {
            "_model_module": "@jupyter-widgets/controls",
            "_model_module_version": "1.5.0",
            "_model_name": "DescriptionStyleModel",
            "_view_count": null,
            "_view_module": "@jupyter-widgets/base",
            "_view_module_version": "1.2.0",
            "_view_name": "StyleView",
            "description_width": ""
          }
        },
        "3cec94fafb104fe7bb86afebc35b961b": {
          "model_module": "@jupyter-widgets/base",
          "model_name": "LayoutModel",
          "model_module_version": "1.2.0",
          "state": {
            "_model_module": "@jupyter-widgets/base",
            "_model_module_version": "1.2.0",
            "_model_name": "LayoutModel",
            "_view_count": null,
            "_view_module": "@jupyter-widgets/base",
            "_view_module_version": "1.2.0",
            "_view_name": "LayoutView",
            "align_content": null,
            "align_items": null,
            "align_self": null,
            "border": null,
            "bottom": null,
            "display": null,
            "flex": null,
            "flex_flow": null,
            "grid_area": null,
            "grid_auto_columns": null,
            "grid_auto_flow": null,
            "grid_auto_rows": null,
            "grid_column": null,
            "grid_gap": null,
            "grid_row": null,
            "grid_template_areas": null,
            "grid_template_columns": null,
            "grid_template_rows": null,
            "height": null,
            "justify_content": null,
            "justify_items": null,
            "left": null,
            "margin": null,
            "max_height": null,
            "max_width": null,
            "min_height": null,
            "min_width": null,
            "object_fit": null,
            "object_position": null,
            "order": null,
            "overflow": null,
            "overflow_x": null,
            "overflow_y": null,
            "padding": null,
            "right": null,
            "top": null,
            "visibility": null,
            "width": null
          }
        },
        "b5b8f04b9da04254b257954ec044cd33": {
          "model_module": "@jupyter-widgets/controls",
          "model_name": "ProgressStyleModel",
          "model_module_version": "1.5.0",
          "state": {
            "_model_module": "@jupyter-widgets/controls",
            "_model_module_version": "1.5.0",
            "_model_name": "ProgressStyleModel",
            "_view_count": null,
            "_view_module": "@jupyter-widgets/base",
            "_view_module_version": "1.2.0",
            "_view_name": "StyleView",
            "bar_color": null,
            "description_width": ""
          }
        },
        "c71682f045a642838f84a82ea4861cdd": {
          "model_module": "@jupyter-widgets/base",
          "model_name": "LayoutModel",
          "model_module_version": "1.2.0",
          "state": {
            "_model_module": "@jupyter-widgets/base",
            "_model_module_version": "1.2.0",
            "_model_name": "LayoutModel",
            "_view_count": null,
            "_view_module": "@jupyter-widgets/base",
            "_view_module_version": "1.2.0",
            "_view_name": "LayoutView",
            "align_content": null,
            "align_items": null,
            "align_self": null,
            "border": null,
            "bottom": null,
            "display": null,
            "flex": null,
            "flex_flow": null,
            "grid_area": null,
            "grid_auto_columns": null,
            "grid_auto_flow": null,
            "grid_auto_rows": null,
            "grid_column": null,
            "grid_gap": null,
            "grid_row": null,
            "grid_template_areas": null,
            "grid_template_columns": null,
            "grid_template_rows": null,
            "height": null,
            "justify_content": null,
            "justify_items": null,
            "left": null,
            "margin": null,
            "max_height": null,
            "max_width": null,
            "min_height": null,
            "min_width": null,
            "object_fit": null,
            "object_position": null,
            "order": null,
            "overflow": null,
            "overflow_x": null,
            "overflow_y": null,
            "padding": null,
            "right": null,
            "top": null,
            "visibility": null,
            "width": null
          }
        },
        "c34c24ec3dae4e3d9cbf1ebac5f6e500": {
          "model_module": "@jupyter-widgets/controls",
          "model_name": "DescriptionStyleModel",
          "model_module_version": "1.5.0",
          "state": {
            "_model_module": "@jupyter-widgets/controls",
            "_model_module_version": "1.5.0",
            "_model_name": "DescriptionStyleModel",
            "_view_count": null,
            "_view_module": "@jupyter-widgets/base",
            "_view_module_version": "1.2.0",
            "_view_name": "StyleView",
            "description_width": ""
          }
        },
        "3ea09f53353e4bc59465ab5970bb2145": {
          "model_module": "@jupyter-widgets/controls",
          "model_name": "HBoxModel",
          "model_module_version": "1.5.0",
          "state": {
            "_dom_classes": [],
            "_model_module": "@jupyter-widgets/controls",
            "_model_module_version": "1.5.0",
            "_model_name": "HBoxModel",
            "_view_count": null,
            "_view_module": "@jupyter-widgets/controls",
            "_view_module_version": "1.5.0",
            "_view_name": "HBoxView",
            "box_style": "",
            "children": [
              "IPY_MODEL_d63cf6c497d74c779d59c403a124d15b",
              "IPY_MODEL_0c9bd4a545fb4638a6bce9bc02a1d279",
              "IPY_MODEL_f210b63ba2fc49abab8c55aaf0df704c"
            ],
            "layout": "IPY_MODEL_d42e5a72451a4613866d6377a2b33da0"
          }
        },
        "d63cf6c497d74c779d59c403a124d15b": {
          "model_module": "@jupyter-widgets/controls",
          "model_name": "HTMLModel",
          "model_module_version": "1.5.0",
          "state": {
            "_dom_classes": [],
            "_model_module": "@jupyter-widgets/controls",
            "_model_module_version": "1.5.0",
            "_model_name": "HTMLModel",
            "_view_count": null,
            "_view_module": "@jupyter-widgets/controls",
            "_view_module_version": "1.5.0",
            "_view_name": "HTMLView",
            "description": "",
            "description_tooltip": null,
            "layout": "IPY_MODEL_d4acb4b6fc7845238bae2134618eee6d",
            "placeholder": "​",
            "style": "IPY_MODEL_95252d259ef44424ab9eb64219b6b266",
            "value": "tokenizer.json: 100%"
          }
        },
        "0c9bd4a545fb4638a6bce9bc02a1d279": {
          "model_module": "@jupyter-widgets/controls",
          "model_name": "FloatProgressModel",
          "model_module_version": "1.5.0",
          "state": {
            "_dom_classes": [],
            "_model_module": "@jupyter-widgets/controls",
            "_model_module_version": "1.5.0",
            "_model_name": "FloatProgressModel",
            "_view_count": null,
            "_view_module": "@jupyter-widgets/controls",
            "_view_module_version": "1.5.0",
            "_view_name": "ProgressView",
            "bar_style": "success",
            "description": "",
            "description_tooltip": null,
            "layout": "IPY_MODEL_0eba64f54ffe4fd5b4f9720a0b9b630b",
            "max": 1355256,
            "min": 0,
            "orientation": "horizontal",
            "style": "IPY_MODEL_a19c179e3d3440ad8494cd0ca47cb585",
            "value": 1355256
          }
        },
        "f210b63ba2fc49abab8c55aaf0df704c": {
          "model_module": "@jupyter-widgets/controls",
          "model_name": "HTMLModel",
          "model_module_version": "1.5.0",
          "state": {
            "_dom_classes": [],
            "_model_module": "@jupyter-widgets/controls",
            "_model_module_version": "1.5.0",
            "_model_name": "HTMLModel",
            "_view_count": null,
            "_view_module": "@jupyter-widgets/controls",
            "_view_module_version": "1.5.0",
            "_view_name": "HTMLView",
            "description": "",
            "description_tooltip": null,
            "layout": "IPY_MODEL_20a30ae233694b298723b774dd9fa880",
            "placeholder": "​",
            "style": "IPY_MODEL_ed3e89bdbbb543ee9de29af2a5494ba0",
            "value": " 1.36M/1.36M [00:01&lt;00:00, 1.11MB/s]"
          }
        },
        "d42e5a72451a4613866d6377a2b33da0": {
          "model_module": "@jupyter-widgets/base",
          "model_name": "LayoutModel",
          "model_module_version": "1.2.0",
          "state": {
            "_model_module": "@jupyter-widgets/base",
            "_model_module_version": "1.2.0",
            "_model_name": "LayoutModel",
            "_view_count": null,
            "_view_module": "@jupyter-widgets/base",
            "_view_module_version": "1.2.0",
            "_view_name": "LayoutView",
            "align_content": null,
            "align_items": null,
            "align_self": null,
            "border": null,
            "bottom": null,
            "display": null,
            "flex": null,
            "flex_flow": null,
            "grid_area": null,
            "grid_auto_columns": null,
            "grid_auto_flow": null,
            "grid_auto_rows": null,
            "grid_column": null,
            "grid_gap": null,
            "grid_row": null,
            "grid_template_areas": null,
            "grid_template_columns": null,
            "grid_template_rows": null,
            "height": null,
            "justify_content": null,
            "justify_items": null,
            "left": null,
            "margin": null,
            "max_height": null,
            "max_width": null,
            "min_height": null,
            "min_width": null,
            "object_fit": null,
            "object_position": null,
            "order": null,
            "overflow": null,
            "overflow_x": null,
            "overflow_y": null,
            "padding": null,
            "right": null,
            "top": null,
            "visibility": null,
            "width": null
          }
        },
        "d4acb4b6fc7845238bae2134618eee6d": {
          "model_module": "@jupyter-widgets/base",
          "model_name": "LayoutModel",
          "model_module_version": "1.2.0",
          "state": {
            "_model_module": "@jupyter-widgets/base",
            "_model_module_version": "1.2.0",
            "_model_name": "LayoutModel",
            "_view_count": null,
            "_view_module": "@jupyter-widgets/base",
            "_view_module_version": "1.2.0",
            "_view_name": "LayoutView",
            "align_content": null,
            "align_items": null,
            "align_self": null,
            "border": null,
            "bottom": null,
            "display": null,
            "flex": null,
            "flex_flow": null,
            "grid_area": null,
            "grid_auto_columns": null,
            "grid_auto_flow": null,
            "grid_auto_rows": null,
            "grid_column": null,
            "grid_gap": null,
            "grid_row": null,
            "grid_template_areas": null,
            "grid_template_columns": null,
            "grid_template_rows": null,
            "height": null,
            "justify_content": null,
            "justify_items": null,
            "left": null,
            "margin": null,
            "max_height": null,
            "max_width": null,
            "min_height": null,
            "min_width": null,
            "object_fit": null,
            "object_position": null,
            "order": null,
            "overflow": null,
            "overflow_x": null,
            "overflow_y": null,
            "padding": null,
            "right": null,
            "top": null,
            "visibility": null,
            "width": null
          }
        },
        "95252d259ef44424ab9eb64219b6b266": {
          "model_module": "@jupyter-widgets/controls",
          "model_name": "DescriptionStyleModel",
          "model_module_version": "1.5.0",
          "state": {
            "_model_module": "@jupyter-widgets/controls",
            "_model_module_version": "1.5.0",
            "_model_name": "DescriptionStyleModel",
            "_view_count": null,
            "_view_module": "@jupyter-widgets/base",
            "_view_module_version": "1.2.0",
            "_view_name": "StyleView",
            "description_width": ""
          }
        },
        "0eba64f54ffe4fd5b4f9720a0b9b630b": {
          "model_module": "@jupyter-widgets/base",
          "model_name": "LayoutModel",
          "model_module_version": "1.2.0",
          "state": {
            "_model_module": "@jupyter-widgets/base",
            "_model_module_version": "1.2.0",
            "_model_name": "LayoutModel",
            "_view_count": null,
            "_view_module": "@jupyter-widgets/base",
            "_view_module_version": "1.2.0",
            "_view_name": "LayoutView",
            "align_content": null,
            "align_items": null,
            "align_self": null,
            "border": null,
            "bottom": null,
            "display": null,
            "flex": null,
            "flex_flow": null,
            "grid_area": null,
            "grid_auto_columns": null,
            "grid_auto_flow": null,
            "grid_auto_rows": null,
            "grid_column": null,
            "grid_gap": null,
            "grid_row": null,
            "grid_template_areas": null,
            "grid_template_columns": null,
            "grid_template_rows": null,
            "height": null,
            "justify_content": null,
            "justify_items": null,
            "left": null,
            "margin": null,
            "max_height": null,
            "max_width": null,
            "min_height": null,
            "min_width": null,
            "object_fit": null,
            "object_position": null,
            "order": null,
            "overflow": null,
            "overflow_x": null,
            "overflow_y": null,
            "padding": null,
            "right": null,
            "top": null,
            "visibility": null,
            "width": null
          }
        },
        "a19c179e3d3440ad8494cd0ca47cb585": {
          "model_module": "@jupyter-widgets/controls",
          "model_name": "ProgressStyleModel",
          "model_module_version": "1.5.0",
          "state": {
            "_model_module": "@jupyter-widgets/controls",
            "_model_module_version": "1.5.0",
            "_model_name": "ProgressStyleModel",
            "_view_count": null,
            "_view_module": "@jupyter-widgets/base",
            "_view_module_version": "1.2.0",
            "_view_name": "StyleView",
            "bar_color": null,
            "description_width": ""
          }
        },
        "20a30ae233694b298723b774dd9fa880": {
          "model_module": "@jupyter-widgets/base",
          "model_name": "LayoutModel",
          "model_module_version": "1.2.0",
          "state": {
            "_model_module": "@jupyter-widgets/base",
            "_model_module_version": "1.2.0",
            "_model_name": "LayoutModel",
            "_view_count": null,
            "_view_module": "@jupyter-widgets/base",
            "_view_module_version": "1.2.0",
            "_view_name": "LayoutView",
            "align_content": null,
            "align_items": null,
            "align_self": null,
            "border": null,
            "bottom": null,
            "display": null,
            "flex": null,
            "flex_flow": null,
            "grid_area": null,
            "grid_auto_columns": null,
            "grid_auto_flow": null,
            "grid_auto_rows": null,
            "grid_column": null,
            "grid_gap": null,
            "grid_row": null,
            "grid_template_areas": null,
            "grid_template_columns": null,
            "grid_template_rows": null,
            "height": null,
            "justify_content": null,
            "justify_items": null,
            "left": null,
            "margin": null,
            "max_height": null,
            "max_width": null,
            "min_height": null,
            "min_width": null,
            "object_fit": null,
            "object_position": null,
            "order": null,
            "overflow": null,
            "overflow_x": null,
            "overflow_y": null,
            "padding": null,
            "right": null,
            "top": null,
            "visibility": null,
            "width": null
          }
        },
        "ed3e89bdbbb543ee9de29af2a5494ba0": {
          "model_module": "@jupyter-widgets/controls",
          "model_name": "DescriptionStyleModel",
          "model_module_version": "1.5.0",
          "state": {
            "_model_module": "@jupyter-widgets/controls",
            "_model_module_version": "1.5.0",
            "_model_name": "DescriptionStyleModel",
            "_view_count": null,
            "_view_module": "@jupyter-widgets/base",
            "_view_module_version": "1.2.0",
            "_view_name": "StyleView",
            "description_width": ""
          }
        },
        "cf27a6bae4c14c94a6aebbcc54c513df": {
          "model_module": "@jupyter-widgets/controls",
          "model_name": "HBoxModel",
          "model_module_version": "1.5.0",
          "state": {
            "_dom_classes": [],
            "_model_module": "@jupyter-widgets/controls",
            "_model_module_version": "1.5.0",
            "_model_name": "HBoxModel",
            "_view_count": null,
            "_view_module": "@jupyter-widgets/controls",
            "_view_module_version": "1.5.0",
            "_view_name": "HBoxView",
            "box_style": "",
            "children": [
              "IPY_MODEL_b3166a1d0982496f918fa4c46b8cb2d8",
              "IPY_MODEL_e49fca6cc57f45b5b904b086013fbbdf",
              "IPY_MODEL_d6804489f57e4a418893850cb5013bf9"
            ],
            "layout": "IPY_MODEL_966d773853334b12864dbc19699b4b69"
          }
        },
        "b3166a1d0982496f918fa4c46b8cb2d8": {
          "model_module": "@jupyter-widgets/controls",
          "model_name": "HTMLModel",
          "model_module_version": "1.5.0",
          "state": {
            "_dom_classes": [],
            "_model_module": "@jupyter-widgets/controls",
            "_model_module_version": "1.5.0",
            "_model_name": "HTMLModel",
            "_view_count": null,
            "_view_module": "@jupyter-widgets/controls",
            "_view_module_version": "1.5.0",
            "_view_name": "HTMLView",
            "description": "",
            "description_tooltip": null,
            "layout": "IPY_MODEL_3d2ef4abead046ffb0318609d46c1035",
            "placeholder": "​",
            "style": "IPY_MODEL_90db2bcd642b4354933f64b28c8d2845",
            "value": "config.json: 100%"
          }
        },
        "e49fca6cc57f45b5b904b086013fbbdf": {
          "model_module": "@jupyter-widgets/controls",
          "model_name": "FloatProgressModel",
          "model_module_version": "1.5.0",
          "state": {
            "_dom_classes": [],
            "_model_module": "@jupyter-widgets/controls",
            "_model_module_version": "1.5.0",
            "_model_name": "FloatProgressModel",
            "_view_count": null,
            "_view_module": "@jupyter-widgets/controls",
            "_view_module_version": "1.5.0",
            "_view_name": "ProgressView",
            "bar_style": "success",
            "description": "",
            "description_tooltip": null,
            "layout": "IPY_MODEL_04650e62802247388eac38e11a1c4b91",
            "max": 665,
            "min": 0,
            "orientation": "horizontal",
            "style": "IPY_MODEL_095d655c724640a0809e5fcbc727ed46",
            "value": 665
          }
        },
        "d6804489f57e4a418893850cb5013bf9": {
          "model_module": "@jupyter-widgets/controls",
          "model_name": "HTMLModel",
          "model_module_version": "1.5.0",
          "state": {
            "_dom_classes": [],
            "_model_module": "@jupyter-widgets/controls",
            "_model_module_version": "1.5.0",
            "_model_name": "HTMLModel",
            "_view_count": null,
            "_view_module": "@jupyter-widgets/controls",
            "_view_module_version": "1.5.0",
            "_view_name": "HTMLView",
            "description": "",
            "description_tooltip": null,
            "layout": "IPY_MODEL_66471cc1378548458996df2033082a1d",
            "placeholder": "​",
            "style": "IPY_MODEL_c060df953f72462c9558b1c6dfc59b59",
            "value": " 665/665 [00:00&lt;00:00, 48.5kB/s]"
          }
        },
        "966d773853334b12864dbc19699b4b69": {
          "model_module": "@jupyter-widgets/base",
          "model_name": "LayoutModel",
          "model_module_version": "1.2.0",
          "state": {
            "_model_module": "@jupyter-widgets/base",
            "_model_module_version": "1.2.0",
            "_model_name": "LayoutModel",
            "_view_count": null,
            "_view_module": "@jupyter-widgets/base",
            "_view_module_version": "1.2.0",
            "_view_name": "LayoutView",
            "align_content": null,
            "align_items": null,
            "align_self": null,
            "border": null,
            "bottom": null,
            "display": null,
            "flex": null,
            "flex_flow": null,
            "grid_area": null,
            "grid_auto_columns": null,
            "grid_auto_flow": null,
            "grid_auto_rows": null,
            "grid_column": null,
            "grid_gap": null,
            "grid_row": null,
            "grid_template_areas": null,
            "grid_template_columns": null,
            "grid_template_rows": null,
            "height": null,
            "justify_content": null,
            "justify_items": null,
            "left": null,
            "margin": null,
            "max_height": null,
            "max_width": null,
            "min_height": null,
            "min_width": null,
            "object_fit": null,
            "object_position": null,
            "order": null,
            "overflow": null,
            "overflow_x": null,
            "overflow_y": null,
            "padding": null,
            "right": null,
            "top": null,
            "visibility": null,
            "width": null
          }
        },
        "3d2ef4abead046ffb0318609d46c1035": {
          "model_module": "@jupyter-widgets/base",
          "model_name": "LayoutModel",
          "model_module_version": "1.2.0",
          "state": {
            "_model_module": "@jupyter-widgets/base",
            "_model_module_version": "1.2.0",
            "_model_name": "LayoutModel",
            "_view_count": null,
            "_view_module": "@jupyter-widgets/base",
            "_view_module_version": "1.2.0",
            "_view_name": "LayoutView",
            "align_content": null,
            "align_items": null,
            "align_self": null,
            "border": null,
            "bottom": null,
            "display": null,
            "flex": null,
            "flex_flow": null,
            "grid_area": null,
            "grid_auto_columns": null,
            "grid_auto_flow": null,
            "grid_auto_rows": null,
            "grid_column": null,
            "grid_gap": null,
            "grid_row": null,
            "grid_template_areas": null,
            "grid_template_columns": null,
            "grid_template_rows": null,
            "height": null,
            "justify_content": null,
            "justify_items": null,
            "left": null,
            "margin": null,
            "max_height": null,
            "max_width": null,
            "min_height": null,
            "min_width": null,
            "object_fit": null,
            "object_position": null,
            "order": null,
            "overflow": null,
            "overflow_x": null,
            "overflow_y": null,
            "padding": null,
            "right": null,
            "top": null,
            "visibility": null,
            "width": null
          }
        },
        "90db2bcd642b4354933f64b28c8d2845": {
          "model_module": "@jupyter-widgets/controls",
          "model_name": "DescriptionStyleModel",
          "model_module_version": "1.5.0",
          "state": {
            "_model_module": "@jupyter-widgets/controls",
            "_model_module_version": "1.5.0",
            "_model_name": "DescriptionStyleModel",
            "_view_count": null,
            "_view_module": "@jupyter-widgets/base",
            "_view_module_version": "1.2.0",
            "_view_name": "StyleView",
            "description_width": ""
          }
        },
        "04650e62802247388eac38e11a1c4b91": {
          "model_module": "@jupyter-widgets/base",
          "model_name": "LayoutModel",
          "model_module_version": "1.2.0",
          "state": {
            "_model_module": "@jupyter-widgets/base",
            "_model_module_version": "1.2.0",
            "_model_name": "LayoutModel",
            "_view_count": null,
            "_view_module": "@jupyter-widgets/base",
            "_view_module_version": "1.2.0",
            "_view_name": "LayoutView",
            "align_content": null,
            "align_items": null,
            "align_self": null,
            "border": null,
            "bottom": null,
            "display": null,
            "flex": null,
            "flex_flow": null,
            "grid_area": null,
            "grid_auto_columns": null,
            "grid_auto_flow": null,
            "grid_auto_rows": null,
            "grid_column": null,
            "grid_gap": null,
            "grid_row": null,
            "grid_template_areas": null,
            "grid_template_columns": null,
            "grid_template_rows": null,
            "height": null,
            "justify_content": null,
            "justify_items": null,
            "left": null,
            "margin": null,
            "max_height": null,
            "max_width": null,
            "min_height": null,
            "min_width": null,
            "object_fit": null,
            "object_position": null,
            "order": null,
            "overflow": null,
            "overflow_x": null,
            "overflow_y": null,
            "padding": null,
            "right": null,
            "top": null,
            "visibility": null,
            "width": null
          }
        },
        "095d655c724640a0809e5fcbc727ed46": {
          "model_module": "@jupyter-widgets/controls",
          "model_name": "ProgressStyleModel",
          "model_module_version": "1.5.0",
          "state": {
            "_model_module": "@jupyter-widgets/controls",
            "_model_module_version": "1.5.0",
            "_model_name": "ProgressStyleModel",
            "_view_count": null,
            "_view_module": "@jupyter-widgets/base",
            "_view_module_version": "1.2.0",
            "_view_name": "StyleView",
            "bar_color": null,
            "description_width": ""
          }
        },
        "66471cc1378548458996df2033082a1d": {
          "model_module": "@jupyter-widgets/base",
          "model_name": "LayoutModel",
          "model_module_version": "1.2.0",
          "state": {
            "_model_module": "@jupyter-widgets/base",
            "_model_module_version": "1.2.0",
            "_model_name": "LayoutModel",
            "_view_count": null,
            "_view_module": "@jupyter-widgets/base",
            "_view_module_version": "1.2.0",
            "_view_name": "LayoutView",
            "align_content": null,
            "align_items": null,
            "align_self": null,
            "border": null,
            "bottom": null,
            "display": null,
            "flex": null,
            "flex_flow": null,
            "grid_area": null,
            "grid_auto_columns": null,
            "grid_auto_flow": null,
            "grid_auto_rows": null,
            "grid_column": null,
            "grid_gap": null,
            "grid_row": null,
            "grid_template_areas": null,
            "grid_template_columns": null,
            "grid_template_rows": null,
            "height": null,
            "justify_content": null,
            "justify_items": null,
            "left": null,
            "margin": null,
            "max_height": null,
            "max_width": null,
            "min_height": null,
            "min_width": null,
            "object_fit": null,
            "object_position": null,
            "order": null,
            "overflow": null,
            "overflow_x": null,
            "overflow_y": null,
            "padding": null,
            "right": null,
            "top": null,
            "visibility": null,
            "width": null
          }
        },
        "c060df953f72462c9558b1c6dfc59b59": {
          "model_module": "@jupyter-widgets/controls",
          "model_name": "DescriptionStyleModel",
          "model_module_version": "1.5.0",
          "state": {
            "_model_module": "@jupyter-widgets/controls",
            "_model_module_version": "1.5.0",
            "_model_name": "DescriptionStyleModel",
            "_view_count": null,
            "_view_module": "@jupyter-widgets/base",
            "_view_module_version": "1.2.0",
            "_view_name": "StyleView",
            "description_width": ""
          }
        },
        "0bc7e36f5f054926a801a9221cfdfc6b": {
          "model_module": "@jupyter-widgets/controls",
          "model_name": "HBoxModel",
          "model_module_version": "1.5.0",
          "state": {
            "_dom_classes": [],
            "_model_module": "@jupyter-widgets/controls",
            "_model_module_version": "1.5.0",
            "_model_name": "HBoxModel",
            "_view_count": null,
            "_view_module": "@jupyter-widgets/controls",
            "_view_module_version": "1.5.0",
            "_view_name": "HBoxView",
            "box_style": "",
            "children": [
              "IPY_MODEL_2400d6c9df084595b08c44aa1eb4a5b5",
              "IPY_MODEL_fee2e938f1e64c6bb876c0d73098cbd0",
              "IPY_MODEL_83d5fd3ff2b1498489b41f48bc6c3056"
            ],
            "layout": "IPY_MODEL_6275915297c64d3ebd9aedf1a009146c"
          }
        },
        "2400d6c9df084595b08c44aa1eb4a5b5": {
          "model_module": "@jupyter-widgets/controls",
          "model_name": "HTMLModel",
          "model_module_version": "1.5.0",
          "state": {
            "_dom_classes": [],
            "_model_module": "@jupyter-widgets/controls",
            "_model_module_version": "1.5.0",
            "_model_name": "HTMLModel",
            "_view_count": null,
            "_view_module": "@jupyter-widgets/controls",
            "_view_module_version": "1.5.0",
            "_view_name": "HTMLView",
            "description": "",
            "description_tooltip": null,
            "layout": "IPY_MODEL_5937896db09748d3a4e6f2fb67033216",
            "placeholder": "​",
            "style": "IPY_MODEL_c4e7933a52af4dce8604afd15336aff0",
            "value": "model.safetensors: 100%"
          }
        },
        "fee2e938f1e64c6bb876c0d73098cbd0": {
          "model_module": "@jupyter-widgets/controls",
          "model_name": "FloatProgressModel",
          "model_module_version": "1.5.0",
          "state": {
            "_dom_classes": [],
            "_model_module": "@jupyter-widgets/controls",
            "_model_module_version": "1.5.0",
            "_model_name": "FloatProgressModel",
            "_view_count": null,
            "_view_module": "@jupyter-widgets/controls",
            "_view_module_version": "1.5.0",
            "_view_name": "ProgressView",
            "bar_style": "success",
            "description": "",
            "description_tooltip": null,
            "layout": "IPY_MODEL_656cf9115b1447d8ba4a88d3cb28db5b",
            "max": 548105171,
            "min": 0,
            "orientation": "horizontal",
            "style": "IPY_MODEL_194a1a83a0414254a60affcd78647bf7",
            "value": 548105171
          }
        },
        "83d5fd3ff2b1498489b41f48bc6c3056": {
          "model_module": "@jupyter-widgets/controls",
          "model_name": "HTMLModel",
          "model_module_version": "1.5.0",
          "state": {
            "_dom_classes": [],
            "_model_module": "@jupyter-widgets/controls",
            "_model_module_version": "1.5.0",
            "_model_name": "HTMLModel",
            "_view_count": null,
            "_view_module": "@jupyter-widgets/controls",
            "_view_module_version": "1.5.0",
            "_view_name": "HTMLView",
            "description": "",
            "description_tooltip": null,
            "layout": "IPY_MODEL_b952b335654549e190a9b2e5328cfd97",
            "placeholder": "​",
            "style": "IPY_MODEL_e256497b435a40d8a103294243ee62b1",
            "value": " 548M/548M [00:01&lt;00:00, 359MB/s]"
          }
        },
        "6275915297c64d3ebd9aedf1a009146c": {
          "model_module": "@jupyter-widgets/base",
          "model_name": "LayoutModel",
          "model_module_version": "1.2.0",
          "state": {
            "_model_module": "@jupyter-widgets/base",
            "_model_module_version": "1.2.0",
            "_model_name": "LayoutModel",
            "_view_count": null,
            "_view_module": "@jupyter-widgets/base",
            "_view_module_version": "1.2.0",
            "_view_name": "LayoutView",
            "align_content": null,
            "align_items": null,
            "align_self": null,
            "border": null,
            "bottom": null,
            "display": null,
            "flex": null,
            "flex_flow": null,
            "grid_area": null,
            "grid_auto_columns": null,
            "grid_auto_flow": null,
            "grid_auto_rows": null,
            "grid_column": null,
            "grid_gap": null,
            "grid_row": null,
            "grid_template_areas": null,
            "grid_template_columns": null,
            "grid_template_rows": null,
            "height": null,
            "justify_content": null,
            "justify_items": null,
            "left": null,
            "margin": null,
            "max_height": null,
            "max_width": null,
            "min_height": null,
            "min_width": null,
            "object_fit": null,
            "object_position": null,
            "order": null,
            "overflow": null,
            "overflow_x": null,
            "overflow_y": null,
            "padding": null,
            "right": null,
            "top": null,
            "visibility": null,
            "width": null
          }
        },
        "5937896db09748d3a4e6f2fb67033216": {
          "model_module": "@jupyter-widgets/base",
          "model_name": "LayoutModel",
          "model_module_version": "1.2.0",
          "state": {
            "_model_module": "@jupyter-widgets/base",
            "_model_module_version": "1.2.0",
            "_model_name": "LayoutModel",
            "_view_count": null,
            "_view_module": "@jupyter-widgets/base",
            "_view_module_version": "1.2.0",
            "_view_name": "LayoutView",
            "align_content": null,
            "align_items": null,
            "align_self": null,
            "border": null,
            "bottom": null,
            "display": null,
            "flex": null,
            "flex_flow": null,
            "grid_area": null,
            "grid_auto_columns": null,
            "grid_auto_flow": null,
            "grid_auto_rows": null,
            "grid_column": null,
            "grid_gap": null,
            "grid_row": null,
            "grid_template_areas": null,
            "grid_template_columns": null,
            "grid_template_rows": null,
            "height": null,
            "justify_content": null,
            "justify_items": null,
            "left": null,
            "margin": null,
            "max_height": null,
            "max_width": null,
            "min_height": null,
            "min_width": null,
            "object_fit": null,
            "object_position": null,
            "order": null,
            "overflow": null,
            "overflow_x": null,
            "overflow_y": null,
            "padding": null,
            "right": null,
            "top": null,
            "visibility": null,
            "width": null
          }
        },
        "c4e7933a52af4dce8604afd15336aff0": {
          "model_module": "@jupyter-widgets/controls",
          "model_name": "DescriptionStyleModel",
          "model_module_version": "1.5.0",
          "state": {
            "_model_module": "@jupyter-widgets/controls",
            "_model_module_version": "1.5.0",
            "_model_name": "DescriptionStyleModel",
            "_view_count": null,
            "_view_module": "@jupyter-widgets/base",
            "_view_module_version": "1.2.0",
            "_view_name": "StyleView",
            "description_width": ""
          }
        },
        "656cf9115b1447d8ba4a88d3cb28db5b": {
          "model_module": "@jupyter-widgets/base",
          "model_name": "LayoutModel",
          "model_module_version": "1.2.0",
          "state": {
            "_model_module": "@jupyter-widgets/base",
            "_model_module_version": "1.2.0",
            "_model_name": "LayoutModel",
            "_view_count": null,
            "_view_module": "@jupyter-widgets/base",
            "_view_module_version": "1.2.0",
            "_view_name": "LayoutView",
            "align_content": null,
            "align_items": null,
            "align_self": null,
            "border": null,
            "bottom": null,
            "display": null,
            "flex": null,
            "flex_flow": null,
            "grid_area": null,
            "grid_auto_columns": null,
            "grid_auto_flow": null,
            "grid_auto_rows": null,
            "grid_column": null,
            "grid_gap": null,
            "grid_row": null,
            "grid_template_areas": null,
            "grid_template_columns": null,
            "grid_template_rows": null,
            "height": null,
            "justify_content": null,
            "justify_items": null,
            "left": null,
            "margin": null,
            "max_height": null,
            "max_width": null,
            "min_height": null,
            "min_width": null,
            "object_fit": null,
            "object_position": null,
            "order": null,
            "overflow": null,
            "overflow_x": null,
            "overflow_y": null,
            "padding": null,
            "right": null,
            "top": null,
            "visibility": null,
            "width": null
          }
        },
        "194a1a83a0414254a60affcd78647bf7": {
          "model_module": "@jupyter-widgets/controls",
          "model_name": "ProgressStyleModel",
          "model_module_version": "1.5.0",
          "state": {
            "_model_module": "@jupyter-widgets/controls",
            "_model_module_version": "1.5.0",
            "_model_name": "ProgressStyleModel",
            "_view_count": null,
            "_view_module": "@jupyter-widgets/base",
            "_view_module_version": "1.2.0",
            "_view_name": "StyleView",
            "bar_color": null,
            "description_width": ""
          }
        },
        "b952b335654549e190a9b2e5328cfd97": {
          "model_module": "@jupyter-widgets/base",
          "model_name": "LayoutModel",
          "model_module_version": "1.2.0",
          "state": {
            "_model_module": "@jupyter-widgets/base",
            "_model_module_version": "1.2.0",
            "_model_name": "LayoutModel",
            "_view_count": null,
            "_view_module": "@jupyter-widgets/base",
            "_view_module_version": "1.2.0",
            "_view_name": "LayoutView",
            "align_content": null,
            "align_items": null,
            "align_self": null,
            "border": null,
            "bottom": null,
            "display": null,
            "flex": null,
            "flex_flow": null,
            "grid_area": null,
            "grid_auto_columns": null,
            "grid_auto_flow": null,
            "grid_auto_rows": null,
            "grid_column": null,
            "grid_gap": null,
            "grid_row": null,
            "grid_template_areas": null,
            "grid_template_columns": null,
            "grid_template_rows": null,
            "height": null,
            "justify_content": null,
            "justify_items": null,
            "left": null,
            "margin": null,
            "max_height": null,
            "max_width": null,
            "min_height": null,
            "min_width": null,
            "object_fit": null,
            "object_position": null,
            "order": null,
            "overflow": null,
            "overflow_x": null,
            "overflow_y": null,
            "padding": null,
            "right": null,
            "top": null,
            "visibility": null,
            "width": null
          }
        },
        "e256497b435a40d8a103294243ee62b1": {
          "model_module": "@jupyter-widgets/controls",
          "model_name": "DescriptionStyleModel",
          "model_module_version": "1.5.0",
          "state": {
            "_model_module": "@jupyter-widgets/controls",
            "_model_module_version": "1.5.0",
            "_model_name": "DescriptionStyleModel",
            "_view_count": null,
            "_view_module": "@jupyter-widgets/base",
            "_view_module_version": "1.2.0",
            "_view_name": "StyleView",
            "description_width": ""
          }
        },
        "538cfb8b62be4ded8a26b320372545c9": {
          "model_module": "@jupyter-widgets/controls",
          "model_name": "HBoxModel",
          "model_module_version": "1.5.0",
          "state": {
            "_dom_classes": [],
            "_model_module": "@jupyter-widgets/controls",
            "_model_module_version": "1.5.0",
            "_model_name": "HBoxModel",
            "_view_count": null,
            "_view_module": "@jupyter-widgets/controls",
            "_view_module_version": "1.5.0",
            "_view_name": "HBoxView",
            "box_style": "",
            "children": [
              "IPY_MODEL_956a448895aa4873951ae8c198e1c2e4",
              "IPY_MODEL_d9f6439e36834b75b6518316025fb252",
              "IPY_MODEL_e79385b0f9e54c2f85f666287ee37486"
            ],
            "layout": "IPY_MODEL_bf1a842ef8a54159be23b50f7d618ae4"
          }
        },
        "956a448895aa4873951ae8c198e1c2e4": {
          "model_module": "@jupyter-widgets/controls",
          "model_name": "HTMLModel",
          "model_module_version": "1.5.0",
          "state": {
            "_dom_classes": [],
            "_model_module": "@jupyter-widgets/controls",
            "_model_module_version": "1.5.0",
            "_model_name": "HTMLModel",
            "_view_count": null,
            "_view_module": "@jupyter-widgets/controls",
            "_view_module_version": "1.5.0",
            "_view_name": "HTMLView",
            "description": "",
            "description_tooltip": null,
            "layout": "IPY_MODEL_82243557de114212a14d15e437b8ae09",
            "placeholder": "​",
            "style": "IPY_MODEL_af9d54c5fb6e4547b517603dca174730",
            "value": "generation_config.json: 100%"
          }
        },
        "d9f6439e36834b75b6518316025fb252": {
          "model_module": "@jupyter-widgets/controls",
          "model_name": "FloatProgressModel",
          "model_module_version": "1.5.0",
          "state": {
            "_dom_classes": [],
            "_model_module": "@jupyter-widgets/controls",
            "_model_module_version": "1.5.0",
            "_model_name": "FloatProgressModel",
            "_view_count": null,
            "_view_module": "@jupyter-widgets/controls",
            "_view_module_version": "1.5.0",
            "_view_name": "ProgressView",
            "bar_style": "success",
            "description": "",
            "description_tooltip": null,
            "layout": "IPY_MODEL_8e7a83d2e82d468abe126fff8b22ccb1",
            "max": 124,
            "min": 0,
            "orientation": "horizontal",
            "style": "IPY_MODEL_e00bb02dadc6437b819b27786fcb169e",
            "value": 124
          }
        },
        "e79385b0f9e54c2f85f666287ee37486": {
          "model_module": "@jupyter-widgets/controls",
          "model_name": "HTMLModel",
          "model_module_version": "1.5.0",
          "state": {
            "_dom_classes": [],
            "_model_module": "@jupyter-widgets/controls",
            "_model_module_version": "1.5.0",
            "_model_name": "HTMLModel",
            "_view_count": null,
            "_view_module": "@jupyter-widgets/controls",
            "_view_module_version": "1.5.0",
            "_view_name": "HTMLView",
            "description": "",
            "description_tooltip": null,
            "layout": "IPY_MODEL_e22841b868bc459d8eda0baebd86a1c4",
            "placeholder": "​",
            "style": "IPY_MODEL_55aea5d107294847bb533d40dd4723ef",
            "value": " 124/124 [00:00&lt;00:00, 7.20kB/s]"
          }
        },
        "bf1a842ef8a54159be23b50f7d618ae4": {
          "model_module": "@jupyter-widgets/base",
          "model_name": "LayoutModel",
          "model_module_version": "1.2.0",
          "state": {
            "_model_module": "@jupyter-widgets/base",
            "_model_module_version": "1.2.0",
            "_model_name": "LayoutModel",
            "_view_count": null,
            "_view_module": "@jupyter-widgets/base",
            "_view_module_version": "1.2.0",
            "_view_name": "LayoutView",
            "align_content": null,
            "align_items": null,
            "align_self": null,
            "border": null,
            "bottom": null,
            "display": null,
            "flex": null,
            "flex_flow": null,
            "grid_area": null,
            "grid_auto_columns": null,
            "grid_auto_flow": null,
            "grid_auto_rows": null,
            "grid_column": null,
            "grid_gap": null,
            "grid_row": null,
            "grid_template_areas": null,
            "grid_template_columns": null,
            "grid_template_rows": null,
            "height": null,
            "justify_content": null,
            "justify_items": null,
            "left": null,
            "margin": null,
            "max_height": null,
            "max_width": null,
            "min_height": null,
            "min_width": null,
            "object_fit": null,
            "object_position": null,
            "order": null,
            "overflow": null,
            "overflow_x": null,
            "overflow_y": null,
            "padding": null,
            "right": null,
            "top": null,
            "visibility": null,
            "width": null
          }
        },
        "82243557de114212a14d15e437b8ae09": {
          "model_module": "@jupyter-widgets/base",
          "model_name": "LayoutModel",
          "model_module_version": "1.2.0",
          "state": {
            "_model_module": "@jupyter-widgets/base",
            "_model_module_version": "1.2.0",
            "_model_name": "LayoutModel",
            "_view_count": null,
            "_view_module": "@jupyter-widgets/base",
            "_view_module_version": "1.2.0",
            "_view_name": "LayoutView",
            "align_content": null,
            "align_items": null,
            "align_self": null,
            "border": null,
            "bottom": null,
            "display": null,
            "flex": null,
            "flex_flow": null,
            "grid_area": null,
            "grid_auto_columns": null,
            "grid_auto_flow": null,
            "grid_auto_rows": null,
            "grid_column": null,
            "grid_gap": null,
            "grid_row": null,
            "grid_template_areas": null,
            "grid_template_columns": null,
            "grid_template_rows": null,
            "height": null,
            "justify_content": null,
            "justify_items": null,
            "left": null,
            "margin": null,
            "max_height": null,
            "max_width": null,
            "min_height": null,
            "min_width": null,
            "object_fit": null,
            "object_position": null,
            "order": null,
            "overflow": null,
            "overflow_x": null,
            "overflow_y": null,
            "padding": null,
            "right": null,
            "top": null,
            "visibility": null,
            "width": null
          }
        },
        "af9d54c5fb6e4547b517603dca174730": {
          "model_module": "@jupyter-widgets/controls",
          "model_name": "DescriptionStyleModel",
          "model_module_version": "1.5.0",
          "state": {
            "_model_module": "@jupyter-widgets/controls",
            "_model_module_version": "1.5.0",
            "_model_name": "DescriptionStyleModel",
            "_view_count": null,
            "_view_module": "@jupyter-widgets/base",
            "_view_module_version": "1.2.0",
            "_view_name": "StyleView",
            "description_width": ""
          }
        },
        "8e7a83d2e82d468abe126fff8b22ccb1": {
          "model_module": "@jupyter-widgets/base",
          "model_name": "LayoutModel",
          "model_module_version": "1.2.0",
          "state": {
            "_model_module": "@jupyter-widgets/base",
            "_model_module_version": "1.2.0",
            "_model_name": "LayoutModel",
            "_view_count": null,
            "_view_module": "@jupyter-widgets/base",
            "_view_module_version": "1.2.0",
            "_view_name": "LayoutView",
            "align_content": null,
            "align_items": null,
            "align_self": null,
            "border": null,
            "bottom": null,
            "display": null,
            "flex": null,
            "flex_flow": null,
            "grid_area": null,
            "grid_auto_columns": null,
            "grid_auto_flow": null,
            "grid_auto_rows": null,
            "grid_column": null,
            "grid_gap": null,
            "grid_row": null,
            "grid_template_areas": null,
            "grid_template_columns": null,
            "grid_template_rows": null,
            "height": null,
            "justify_content": null,
            "justify_items": null,
            "left": null,
            "margin": null,
            "max_height": null,
            "max_width": null,
            "min_height": null,
            "min_width": null,
            "object_fit": null,
            "object_position": null,
            "order": null,
            "overflow": null,
            "overflow_x": null,
            "overflow_y": null,
            "padding": null,
            "right": null,
            "top": null,
            "visibility": null,
            "width": null
          }
        },
        "e00bb02dadc6437b819b27786fcb169e": {
          "model_module": "@jupyter-widgets/controls",
          "model_name": "ProgressStyleModel",
          "model_module_version": "1.5.0",
          "state": {
            "_model_module": "@jupyter-widgets/controls",
            "_model_module_version": "1.5.0",
            "_model_name": "ProgressStyleModel",
            "_view_count": null,
            "_view_module": "@jupyter-widgets/base",
            "_view_module_version": "1.2.0",
            "_view_name": "StyleView",
            "bar_color": null,
            "description_width": ""
          }
        },
        "e22841b868bc459d8eda0baebd86a1c4": {
          "model_module": "@jupyter-widgets/base",
          "model_name": "LayoutModel",
          "model_module_version": "1.2.0",
          "state": {
            "_model_module": "@jupyter-widgets/base",
            "_model_module_version": "1.2.0",
            "_model_name": "LayoutModel",
            "_view_count": null,
            "_view_module": "@jupyter-widgets/base",
            "_view_module_version": "1.2.0",
            "_view_name": "LayoutView",
            "align_content": null,
            "align_items": null,
            "align_self": null,
            "border": null,
            "bottom": null,
            "display": null,
            "flex": null,
            "flex_flow": null,
            "grid_area": null,
            "grid_auto_columns": null,
            "grid_auto_flow": null,
            "grid_auto_rows": null,
            "grid_column": null,
            "grid_gap": null,
            "grid_row": null,
            "grid_template_areas": null,
            "grid_template_columns": null,
            "grid_template_rows": null,
            "height": null,
            "justify_content": null,
            "justify_items": null,
            "left": null,
            "margin": null,
            "max_height": null,
            "max_width": null,
            "min_height": null,
            "min_width": null,
            "object_fit": null,
            "object_position": null,
            "order": null,
            "overflow": null,
            "overflow_x": null,
            "overflow_y": null,
            "padding": null,
            "right": null,
            "top": null,
            "visibility": null,
            "width": null
          }
        },
        "55aea5d107294847bb533d40dd4723ef": {
          "model_module": "@jupyter-widgets/controls",
          "model_name": "DescriptionStyleModel",
          "model_module_version": "1.5.0",
          "state": {
            "_model_module": "@jupyter-widgets/controls",
            "_model_module_version": "1.5.0",
            "_model_name": "DescriptionStyleModel",
            "_view_count": null,
            "_view_module": "@jupyter-widgets/base",
            "_view_module_version": "1.2.0",
            "_view_name": "StyleView",
            "description_width": ""
          }
        },
        "23461c9c2ada4c0bb25a1e46e3e747e6": {
          "model_module": "@jupyter-widgets/controls",
          "model_name": "HBoxModel",
          "model_module_version": "1.5.0",
          "state": {
            "_dom_classes": [],
            "_model_module": "@jupyter-widgets/controls",
            "_model_module_version": "1.5.0",
            "_model_name": "HBoxModel",
            "_view_count": null,
            "_view_module": "@jupyter-widgets/controls",
            "_view_module_version": "1.5.0",
            "_view_name": "HBoxView",
            "box_style": "",
            "children": [
              "IPY_MODEL_dc6fd75e7d494c039fdcc8de02f2b4a2",
              "IPY_MODEL_4d98295fcae84d3ea1e9af718210d028",
              "IPY_MODEL_fa2ebe6bc5604f37907e66ba3fc490c5"
            ],
            "layout": "IPY_MODEL_2a775d5fefee48848f688f2941ce6d94"
          }
        },
        "dc6fd75e7d494c039fdcc8de02f2b4a2": {
          "model_module": "@jupyter-widgets/controls",
          "model_name": "HTMLModel",
          "model_module_version": "1.5.0",
          "state": {
            "_dom_classes": [],
            "_model_module": "@jupyter-widgets/controls",
            "_model_module_version": "1.5.0",
            "_model_name": "HTMLModel",
            "_view_count": null,
            "_view_module": "@jupyter-widgets/controls",
            "_view_module_version": "1.5.0",
            "_view_name": "HTMLView",
            "description": "",
            "description_tooltip": null,
            "layout": "IPY_MODEL_0d0e2a3b683c425fa6b6eecaf6121518",
            "placeholder": "​",
            "style": "IPY_MODEL_3b71f94ce31c4a819cd5297a9905e2d4",
            "value": "Downloading builder script: 100%"
          }
        },
        "4d98295fcae84d3ea1e9af718210d028": {
          "model_module": "@jupyter-widgets/controls",
          "model_name": "FloatProgressModel",
          "model_module_version": "1.5.0",
          "state": {
            "_dom_classes": [],
            "_model_module": "@jupyter-widgets/controls",
            "_model_module_version": "1.5.0",
            "_model_name": "FloatProgressModel",
            "_view_count": null,
            "_view_module": "@jupyter-widgets/controls",
            "_view_module_version": "1.5.0",
            "_view_name": "ProgressView",
            "bar_style": "success",
            "description": "",
            "description_tooltip": null,
            "layout": "IPY_MODEL_04a41cccdc10454aae071a94dc25f651",
            "max": 8460,
            "min": 0,
            "orientation": "horizontal",
            "style": "IPY_MODEL_775dbaa557934d188f86cb14709d8f4c",
            "value": 8460
          }
        },
        "fa2ebe6bc5604f37907e66ba3fc490c5": {
          "model_module": "@jupyter-widgets/controls",
          "model_name": "HTMLModel",
          "model_module_version": "1.5.0",
          "state": {
            "_dom_classes": [],
            "_model_module": "@jupyter-widgets/controls",
            "_model_module_version": "1.5.0",
            "_model_name": "HTMLModel",
            "_view_count": null,
            "_view_module": "@jupyter-widgets/controls",
            "_view_module_version": "1.5.0",
            "_view_name": "HTMLView",
            "description": "",
            "description_tooltip": null,
            "layout": "IPY_MODEL_64d0d78440c84dd79b58635f5ec9801a",
            "placeholder": "​",
            "style": "IPY_MODEL_eafd0a2522364ba4b566cd25f57d85c3",
            "value": " 8.46k/8.46k [00:00&lt;00:00, 399kB/s]"
          }
        },
        "2a775d5fefee48848f688f2941ce6d94": {
          "model_module": "@jupyter-widgets/base",
          "model_name": "LayoutModel",
          "model_module_version": "1.2.0",
          "state": {
            "_model_module": "@jupyter-widgets/base",
            "_model_module_version": "1.2.0",
            "_model_name": "LayoutModel",
            "_view_count": null,
            "_view_module": "@jupyter-widgets/base",
            "_view_module_version": "1.2.0",
            "_view_name": "LayoutView",
            "align_content": null,
            "align_items": null,
            "align_self": null,
            "border": null,
            "bottom": null,
            "display": null,
            "flex": null,
            "flex_flow": null,
            "grid_area": null,
            "grid_auto_columns": null,
            "grid_auto_flow": null,
            "grid_auto_rows": null,
            "grid_column": null,
            "grid_gap": null,
            "grid_row": null,
            "grid_template_areas": null,
            "grid_template_columns": null,
            "grid_template_rows": null,
            "height": null,
            "justify_content": null,
            "justify_items": null,
            "left": null,
            "margin": null,
            "max_height": null,
            "max_width": null,
            "min_height": null,
            "min_width": null,
            "object_fit": null,
            "object_position": null,
            "order": null,
            "overflow": null,
            "overflow_x": null,
            "overflow_y": null,
            "padding": null,
            "right": null,
            "top": null,
            "visibility": null,
            "width": null
          }
        },
        "0d0e2a3b683c425fa6b6eecaf6121518": {
          "model_module": "@jupyter-widgets/base",
          "model_name": "LayoutModel",
          "model_module_version": "1.2.0",
          "state": {
            "_model_module": "@jupyter-widgets/base",
            "_model_module_version": "1.2.0",
            "_model_name": "LayoutModel",
            "_view_count": null,
            "_view_module": "@jupyter-widgets/base",
            "_view_module_version": "1.2.0",
            "_view_name": "LayoutView",
            "align_content": null,
            "align_items": null,
            "align_self": null,
            "border": null,
            "bottom": null,
            "display": null,
            "flex": null,
            "flex_flow": null,
            "grid_area": null,
            "grid_auto_columns": null,
            "grid_auto_flow": null,
            "grid_auto_rows": null,
            "grid_column": null,
            "grid_gap": null,
            "grid_row": null,
            "grid_template_areas": null,
            "grid_template_columns": null,
            "grid_template_rows": null,
            "height": null,
            "justify_content": null,
            "justify_items": null,
            "left": null,
            "margin": null,
            "max_height": null,
            "max_width": null,
            "min_height": null,
            "min_width": null,
            "object_fit": null,
            "object_position": null,
            "order": null,
            "overflow": null,
            "overflow_x": null,
            "overflow_y": null,
            "padding": null,
            "right": null,
            "top": null,
            "visibility": null,
            "width": null
          }
        },
        "3b71f94ce31c4a819cd5297a9905e2d4": {
          "model_module": "@jupyter-widgets/controls",
          "model_name": "DescriptionStyleModel",
          "model_module_version": "1.5.0",
          "state": {
            "_model_module": "@jupyter-widgets/controls",
            "_model_module_version": "1.5.0",
            "_model_name": "DescriptionStyleModel",
            "_view_count": null,
            "_view_module": "@jupyter-widgets/base",
            "_view_module_version": "1.2.0",
            "_view_name": "StyleView",
            "description_width": ""
          }
        },
        "04a41cccdc10454aae071a94dc25f651": {
          "model_module": "@jupyter-widgets/base",
          "model_name": "LayoutModel",
          "model_module_version": "1.2.0",
          "state": {
            "_model_module": "@jupyter-widgets/base",
            "_model_module_version": "1.2.0",
            "_model_name": "LayoutModel",
            "_view_count": null,
            "_view_module": "@jupyter-widgets/base",
            "_view_module_version": "1.2.0",
            "_view_name": "LayoutView",
            "align_content": null,
            "align_items": null,
            "align_self": null,
            "border": null,
            "bottom": null,
            "display": null,
            "flex": null,
            "flex_flow": null,
            "grid_area": null,
            "grid_auto_columns": null,
            "grid_auto_flow": null,
            "grid_auto_rows": null,
            "grid_column": null,
            "grid_gap": null,
            "grid_row": null,
            "grid_template_areas": null,
            "grid_template_columns": null,
            "grid_template_rows": null,
            "height": null,
            "justify_content": null,
            "justify_items": null,
            "left": null,
            "margin": null,
            "max_height": null,
            "max_width": null,
            "min_height": null,
            "min_width": null,
            "object_fit": null,
            "object_position": null,
            "order": null,
            "overflow": null,
            "overflow_x": null,
            "overflow_y": null,
            "padding": null,
            "right": null,
            "top": null,
            "visibility": null,
            "width": null
          }
        },
        "775dbaa557934d188f86cb14709d8f4c": {
          "model_module": "@jupyter-widgets/controls",
          "model_name": "ProgressStyleModel",
          "model_module_version": "1.5.0",
          "state": {
            "_model_module": "@jupyter-widgets/controls",
            "_model_module_version": "1.5.0",
            "_model_name": "ProgressStyleModel",
            "_view_count": null,
            "_view_module": "@jupyter-widgets/base",
            "_view_module_version": "1.2.0",
            "_view_name": "StyleView",
            "bar_color": null,
            "description_width": ""
          }
        },
        "64d0d78440c84dd79b58635f5ec9801a": {
          "model_module": "@jupyter-widgets/base",
          "model_name": "LayoutModel",
          "model_module_version": "1.2.0",
          "state": {
            "_model_module": "@jupyter-widgets/base",
            "_model_module_version": "1.2.0",
            "_model_name": "LayoutModel",
            "_view_count": null,
            "_view_module": "@jupyter-widgets/base",
            "_view_module_version": "1.2.0",
            "_view_name": "LayoutView",
            "align_content": null,
            "align_items": null,
            "align_self": null,
            "border": null,
            "bottom": null,
            "display": null,
            "flex": null,
            "flex_flow": null,
            "grid_area": null,
            "grid_auto_columns": null,
            "grid_auto_flow": null,
            "grid_auto_rows": null,
            "grid_column": null,
            "grid_gap": null,
            "grid_row": null,
            "grid_template_areas": null,
            "grid_template_columns": null,
            "grid_template_rows": null,
            "height": null,
            "justify_content": null,
            "justify_items": null,
            "left": null,
            "margin": null,
            "max_height": null,
            "max_width": null,
            "min_height": null,
            "min_width": null,
            "object_fit": null,
            "object_position": null,
            "order": null,
            "overflow": null,
            "overflow_x": null,
            "overflow_y": null,
            "padding": null,
            "right": null,
            "top": null,
            "visibility": null,
            "width": null
          }
        },
        "eafd0a2522364ba4b566cd25f57d85c3": {
          "model_module": "@jupyter-widgets/controls",
          "model_name": "DescriptionStyleModel",
          "model_module_version": "1.5.0",
          "state": {
            "_model_module": "@jupyter-widgets/controls",
            "_model_module_version": "1.5.0",
            "_model_name": "DescriptionStyleModel",
            "_view_count": null,
            "_view_module": "@jupyter-widgets/base",
            "_view_module_version": "1.2.0",
            "_view_name": "StyleView",
            "description_width": ""
          }
        },
        "7d50991c9e90444eac0dfac5fc703275": {
          "model_module": "@jupyter-widgets/controls",
          "model_name": "HBoxModel",
          "model_module_version": "1.5.0",
          "state": {
            "_dom_classes": [],
            "_model_module": "@jupyter-widgets/controls",
            "_model_module_version": "1.5.0",
            "_model_name": "HBoxModel",
            "_view_count": null,
            "_view_module": "@jupyter-widgets/controls",
            "_view_module_version": "1.5.0",
            "_view_name": "HBoxView",
            "box_style": "",
            "children": [
              "IPY_MODEL_8471d6c698be4f65a58ee31483e9f114",
              "IPY_MODEL_480d62ee275549efb112ff3135f6d371",
              "IPY_MODEL_8db0f650ead649678c49f25052f18188"
            ],
            "layout": "IPY_MODEL_17fa938401824a78b48ad60153e9fcf3"
          }
        },
        "8471d6c698be4f65a58ee31483e9f114": {
          "model_module": "@jupyter-widgets/controls",
          "model_name": "HTMLModel",
          "model_module_version": "1.5.0",
          "state": {
            "_dom_classes": [],
            "_model_module": "@jupyter-widgets/controls",
            "_model_module_version": "1.5.0",
            "_model_name": "HTMLModel",
            "_view_count": null,
            "_view_module": "@jupyter-widgets/controls",
            "_view_module_version": "1.5.0",
            "_view_name": "HTMLView",
            "description": "",
            "description_tooltip": null,
            "layout": "IPY_MODEL_f182bc933916433690d0d9fbde32bb26",
            "placeholder": "​",
            "style": "IPY_MODEL_777f33046c7145fe901ecd21d61073ed",
            "value": "100%"
          }
        },
        "480d62ee275549efb112ff3135f6d371": {
          "model_module": "@jupyter-widgets/controls",
          "model_name": "FloatProgressModel",
          "model_module_version": "1.5.0",
          "state": {
            "_dom_classes": [],
            "_model_module": "@jupyter-widgets/controls",
            "_model_module_version": "1.5.0",
            "_model_name": "FloatProgressModel",
            "_view_count": null,
            "_view_module": "@jupyter-widgets/controls",
            "_view_module_version": "1.5.0",
            "_view_name": "ProgressView",
            "bar_style": "success",
            "description": "",
            "description_tooltip": null,
            "layout": "IPY_MODEL_c9fbf3cd78874904a3063a7e2f8b8620",
            "max": 1,
            "min": 0,
            "orientation": "horizontal",
            "style": "IPY_MODEL_007c80d9b731479dab4a3a02d384164b",
            "value": 1
          }
        },
        "8db0f650ead649678c49f25052f18188": {
          "model_module": "@jupyter-widgets/controls",
          "model_name": "HTMLModel",
          "model_module_version": "1.5.0",
          "state": {
            "_dom_classes": [],
            "_model_module": "@jupyter-widgets/controls",
            "_model_module_version": "1.5.0",
            "_model_name": "HTMLModel",
            "_view_count": null,
            "_view_module": "@jupyter-widgets/controls",
            "_view_module_version": "1.5.0",
            "_view_name": "HTMLView",
            "description": "",
            "description_tooltip": null,
            "layout": "IPY_MODEL_7b3f3572ba184ad0b5215811d2021c38",
            "placeholder": "​",
            "style": "IPY_MODEL_df307834ccca42b4af73ef086774dd04",
            "value": " 1/1 [00:00&lt;00:00,  5.46it/s]"
          }
        },
        "17fa938401824a78b48ad60153e9fcf3": {
          "model_module": "@jupyter-widgets/base",
          "model_name": "LayoutModel",
          "model_module_version": "1.2.0",
          "state": {
            "_model_module": "@jupyter-widgets/base",
            "_model_module_version": "1.2.0",
            "_model_name": "LayoutModel",
            "_view_count": null,
            "_view_module": "@jupyter-widgets/base",
            "_view_module_version": "1.2.0",
            "_view_name": "LayoutView",
            "align_content": null,
            "align_items": null,
            "align_self": null,
            "border": null,
            "bottom": null,
            "display": null,
            "flex": null,
            "flex_flow": null,
            "grid_area": null,
            "grid_auto_columns": null,
            "grid_auto_flow": null,
            "grid_auto_rows": null,
            "grid_column": null,
            "grid_gap": null,
            "grid_row": null,
            "grid_template_areas": null,
            "grid_template_columns": null,
            "grid_template_rows": null,
            "height": null,
            "justify_content": null,
            "justify_items": null,
            "left": null,
            "margin": null,
            "max_height": null,
            "max_width": null,
            "min_height": null,
            "min_width": null,
            "object_fit": null,
            "object_position": null,
            "order": null,
            "overflow": null,
            "overflow_x": null,
            "overflow_y": null,
            "padding": null,
            "right": null,
            "top": null,
            "visibility": null,
            "width": null
          }
        },
        "f182bc933916433690d0d9fbde32bb26": {
          "model_module": "@jupyter-widgets/base",
          "model_name": "LayoutModel",
          "model_module_version": "1.2.0",
          "state": {
            "_model_module": "@jupyter-widgets/base",
            "_model_module_version": "1.2.0",
            "_model_name": "LayoutModel",
            "_view_count": null,
            "_view_module": "@jupyter-widgets/base",
            "_view_module_version": "1.2.0",
            "_view_name": "LayoutView",
            "align_content": null,
            "align_items": null,
            "align_self": null,
            "border": null,
            "bottom": null,
            "display": null,
            "flex": null,
            "flex_flow": null,
            "grid_area": null,
            "grid_auto_columns": null,
            "grid_auto_flow": null,
            "grid_auto_rows": null,
            "grid_column": null,
            "grid_gap": null,
            "grid_row": null,
            "grid_template_areas": null,
            "grid_template_columns": null,
            "grid_template_rows": null,
            "height": null,
            "justify_content": null,
            "justify_items": null,
            "left": null,
            "margin": null,
            "max_height": null,
            "max_width": null,
            "min_height": null,
            "min_width": null,
            "object_fit": null,
            "object_position": null,
            "order": null,
            "overflow": null,
            "overflow_x": null,
            "overflow_y": null,
            "padding": null,
            "right": null,
            "top": null,
            "visibility": null,
            "width": null
          }
        },
        "777f33046c7145fe901ecd21d61073ed": {
          "model_module": "@jupyter-widgets/controls",
          "model_name": "DescriptionStyleModel",
          "model_module_version": "1.5.0",
          "state": {
            "_model_module": "@jupyter-widgets/controls",
            "_model_module_version": "1.5.0",
            "_model_name": "DescriptionStyleModel",
            "_view_count": null,
            "_view_module": "@jupyter-widgets/base",
            "_view_module_version": "1.2.0",
            "_view_name": "StyleView",
            "description_width": ""
          }
        },
        "c9fbf3cd78874904a3063a7e2f8b8620": {
          "model_module": "@jupyter-widgets/base",
          "model_name": "LayoutModel",
          "model_module_version": "1.2.0",
          "state": {
            "_model_module": "@jupyter-widgets/base",
            "_model_module_version": "1.2.0",
            "_model_name": "LayoutModel",
            "_view_count": null,
            "_view_module": "@jupyter-widgets/base",
            "_view_module_version": "1.2.0",
            "_view_name": "LayoutView",
            "align_content": null,
            "align_items": null,
            "align_self": null,
            "border": null,
            "bottom": null,
            "display": null,
            "flex": null,
            "flex_flow": null,
            "grid_area": null,
            "grid_auto_columns": null,
            "grid_auto_flow": null,
            "grid_auto_rows": null,
            "grid_column": null,
            "grid_gap": null,
            "grid_row": null,
            "grid_template_areas": null,
            "grid_template_columns": null,
            "grid_template_rows": null,
            "height": null,
            "justify_content": null,
            "justify_items": null,
            "left": null,
            "margin": null,
            "max_height": null,
            "max_width": null,
            "min_height": null,
            "min_width": null,
            "object_fit": null,
            "object_position": null,
            "order": null,
            "overflow": null,
            "overflow_x": null,
            "overflow_y": null,
            "padding": null,
            "right": null,
            "top": null,
            "visibility": null,
            "width": null
          }
        },
        "007c80d9b731479dab4a3a02d384164b": {
          "model_module": "@jupyter-widgets/controls",
          "model_name": "ProgressStyleModel",
          "model_module_version": "1.5.0",
          "state": {
            "_model_module": "@jupyter-widgets/controls",
            "_model_module_version": "1.5.0",
            "_model_name": "ProgressStyleModel",
            "_view_count": null,
            "_view_module": "@jupyter-widgets/base",
            "_view_module_version": "1.2.0",
            "_view_name": "StyleView",
            "bar_color": null,
            "description_width": ""
          }
        },
        "7b3f3572ba184ad0b5215811d2021c38": {
          "model_module": "@jupyter-widgets/base",
          "model_name": "LayoutModel",
          "model_module_version": "1.2.0",
          "state": {
            "_model_module": "@jupyter-widgets/base",
            "_model_module_version": "1.2.0",
            "_model_name": "LayoutModel",
            "_view_count": null,
            "_view_module": "@jupyter-widgets/base",
            "_view_module_version": "1.2.0",
            "_view_name": "LayoutView",
            "align_content": null,
            "align_items": null,
            "align_self": null,
            "border": null,
            "bottom": null,
            "display": null,
            "flex": null,
            "flex_flow": null,
            "grid_area": null,
            "grid_auto_columns": null,
            "grid_auto_flow": null,
            "grid_auto_rows": null,
            "grid_column": null,
            "grid_gap": null,
            "grid_row": null,
            "grid_template_areas": null,
            "grid_template_columns": null,
            "grid_template_rows": null,
            "height": null,
            "justify_content": null,
            "justify_items": null,
            "left": null,
            "margin": null,
            "max_height": null,
            "max_width": null,
            "min_height": null,
            "min_width": null,
            "object_fit": null,
            "object_position": null,
            "order": null,
            "overflow": null,
            "overflow_x": null,
            "overflow_y": null,
            "padding": null,
            "right": null,
            "top": null,
            "visibility": null,
            "width": null
          }
        },
        "df307834ccca42b4af73ef086774dd04": {
          "model_module": "@jupyter-widgets/controls",
          "model_name": "DescriptionStyleModel",
          "model_module_version": "1.5.0",
          "state": {
            "_model_module": "@jupyter-widgets/controls",
            "_model_module_version": "1.5.0",
            "_model_name": "DescriptionStyleModel",
            "_view_count": null,
            "_view_module": "@jupyter-widgets/base",
            "_view_module_version": "1.2.0",
            "_view_name": "StyleView",
            "description_width": ""
          }
        },
        "ed3194117bb74d0e903b415c1bad0dc9": {
          "model_module": "@jupyter-widgets/controls",
          "model_name": "HBoxModel",
          "model_module_version": "1.5.0",
          "state": {
            "_dom_classes": [],
            "_model_module": "@jupyter-widgets/controls",
            "_model_module_version": "1.5.0",
            "_model_name": "HBoxModel",
            "_view_count": null,
            "_view_module": "@jupyter-widgets/controls",
            "_view_module_version": "1.5.0",
            "_view_name": "HBoxView",
            "box_style": "",
            "children": [
              "IPY_MODEL_fe06483224f84940b460fa75a864fdc3",
              "IPY_MODEL_d66cbad70dbd478daaaedcb727ff0710",
              "IPY_MODEL_823f1039750c42f0b6443aa41d47f68d"
            ],
            "layout": "IPY_MODEL_d0827744c24e45f1800fb65c0584732b"
          }
        },
        "fe06483224f84940b460fa75a864fdc3": {
          "model_module": "@jupyter-widgets/controls",
          "model_name": "HTMLModel",
          "model_module_version": "1.5.0",
          "state": {
            "_dom_classes": [],
            "_model_module": "@jupyter-widgets/controls",
            "_model_module_version": "1.5.0",
            "_model_name": "HTMLModel",
            "_view_count": null,
            "_view_module": "@jupyter-widgets/controls",
            "_view_module_version": "1.5.0",
            "_view_name": "HTMLView",
            "description": "",
            "description_tooltip": null,
            "layout": "IPY_MODEL_e6b4b59b72844c69abc61aefae8fa542",
            "placeholder": "​",
            "style": "IPY_MODEL_c13ba6493aae47b98d92a094c12cdc73",
            "value": "100%"
          }
        },
        "d66cbad70dbd478daaaedcb727ff0710": {
          "model_module": "@jupyter-widgets/controls",
          "model_name": "FloatProgressModel",
          "model_module_version": "1.5.0",
          "state": {
            "_dom_classes": [],
            "_model_module": "@jupyter-widgets/controls",
            "_model_module_version": "1.5.0",
            "_model_name": "FloatProgressModel",
            "_view_count": null,
            "_view_module": "@jupyter-widgets/controls",
            "_view_module_version": "1.5.0",
            "_view_name": "ProgressView",
            "bar_style": "success",
            "description": "",
            "description_tooltip": null,
            "layout": "IPY_MODEL_d11eaf1fe8c649ae9a20a50d45858e12",
            "max": 1,
            "min": 0,
            "orientation": "horizontal",
            "style": "IPY_MODEL_9f221ba3fe894879975be9b95790da3e",
            "value": 1
          }
        },
        "823f1039750c42f0b6443aa41d47f68d": {
          "model_module": "@jupyter-widgets/controls",
          "model_name": "HTMLModel",
          "model_module_version": "1.5.0",
          "state": {
            "_dom_classes": [],
            "_model_module": "@jupyter-widgets/controls",
            "_model_module_version": "1.5.0",
            "_model_name": "HTMLModel",
            "_view_count": null,
            "_view_module": "@jupyter-widgets/controls",
            "_view_module_version": "1.5.0",
            "_view_name": "HTMLView",
            "description": "",
            "description_tooltip": null,
            "layout": "IPY_MODEL_e9f5255379cb452187ddf07fa2a04f5e",
            "placeholder": "​",
            "style": "IPY_MODEL_f544c9d4026840f8a57536eaeb1056c3",
            "value": " 1/1 [00:00&lt;00:00, 14.47it/s]"
          }
        },
        "d0827744c24e45f1800fb65c0584732b": {
          "model_module": "@jupyter-widgets/base",
          "model_name": "LayoutModel",
          "model_module_version": "1.2.0",
          "state": {
            "_model_module": "@jupyter-widgets/base",
            "_model_module_version": "1.2.0",
            "_model_name": "LayoutModel",
            "_view_count": null,
            "_view_module": "@jupyter-widgets/base",
            "_view_module_version": "1.2.0",
            "_view_name": "LayoutView",
            "align_content": null,
            "align_items": null,
            "align_self": null,
            "border": null,
            "bottom": null,
            "display": null,
            "flex": null,
            "flex_flow": null,
            "grid_area": null,
            "grid_auto_columns": null,
            "grid_auto_flow": null,
            "grid_auto_rows": null,
            "grid_column": null,
            "grid_gap": null,
            "grid_row": null,
            "grid_template_areas": null,
            "grid_template_columns": null,
            "grid_template_rows": null,
            "height": null,
            "justify_content": null,
            "justify_items": null,
            "left": null,
            "margin": null,
            "max_height": null,
            "max_width": null,
            "min_height": null,
            "min_width": null,
            "object_fit": null,
            "object_position": null,
            "order": null,
            "overflow": null,
            "overflow_x": null,
            "overflow_y": null,
            "padding": null,
            "right": null,
            "top": null,
            "visibility": null,
            "width": null
          }
        },
        "e6b4b59b72844c69abc61aefae8fa542": {
          "model_module": "@jupyter-widgets/base",
          "model_name": "LayoutModel",
          "model_module_version": "1.2.0",
          "state": {
            "_model_module": "@jupyter-widgets/base",
            "_model_module_version": "1.2.0",
            "_model_name": "LayoutModel",
            "_view_count": null,
            "_view_module": "@jupyter-widgets/base",
            "_view_module_version": "1.2.0",
            "_view_name": "LayoutView",
            "align_content": null,
            "align_items": null,
            "align_self": null,
            "border": null,
            "bottom": null,
            "display": null,
            "flex": null,
            "flex_flow": null,
            "grid_area": null,
            "grid_auto_columns": null,
            "grid_auto_flow": null,
            "grid_auto_rows": null,
            "grid_column": null,
            "grid_gap": null,
            "grid_row": null,
            "grid_template_areas": null,
            "grid_template_columns": null,
            "grid_template_rows": null,
            "height": null,
            "justify_content": null,
            "justify_items": null,
            "left": null,
            "margin": null,
            "max_height": null,
            "max_width": null,
            "min_height": null,
            "min_width": null,
            "object_fit": null,
            "object_position": null,
            "order": null,
            "overflow": null,
            "overflow_x": null,
            "overflow_y": null,
            "padding": null,
            "right": null,
            "top": null,
            "visibility": null,
            "width": null
          }
        },
        "c13ba6493aae47b98d92a094c12cdc73": {
          "model_module": "@jupyter-widgets/controls",
          "model_name": "DescriptionStyleModel",
          "model_module_version": "1.5.0",
          "state": {
            "_model_module": "@jupyter-widgets/controls",
            "_model_module_version": "1.5.0",
            "_model_name": "DescriptionStyleModel",
            "_view_count": null,
            "_view_module": "@jupyter-widgets/base",
            "_view_module_version": "1.2.0",
            "_view_name": "StyleView",
            "description_width": ""
          }
        },
        "d11eaf1fe8c649ae9a20a50d45858e12": {
          "model_module": "@jupyter-widgets/base",
          "model_name": "LayoutModel",
          "model_module_version": "1.2.0",
          "state": {
            "_model_module": "@jupyter-widgets/base",
            "_model_module_version": "1.2.0",
            "_model_name": "LayoutModel",
            "_view_count": null,
            "_view_module": "@jupyter-widgets/base",
            "_view_module_version": "1.2.0",
            "_view_name": "LayoutView",
            "align_content": null,
            "align_items": null,
            "align_self": null,
            "border": null,
            "bottom": null,
            "display": null,
            "flex": null,
            "flex_flow": null,
            "grid_area": null,
            "grid_auto_columns": null,
            "grid_auto_flow": null,
            "grid_auto_rows": null,
            "grid_column": null,
            "grid_gap": null,
            "grid_row": null,
            "grid_template_areas": null,
            "grid_template_columns": null,
            "grid_template_rows": null,
            "height": null,
            "justify_content": null,
            "justify_items": null,
            "left": null,
            "margin": null,
            "max_height": null,
            "max_width": null,
            "min_height": null,
            "min_width": null,
            "object_fit": null,
            "object_position": null,
            "order": null,
            "overflow": null,
            "overflow_x": null,
            "overflow_y": null,
            "padding": null,
            "right": null,
            "top": null,
            "visibility": null,
            "width": null
          }
        },
        "9f221ba3fe894879975be9b95790da3e": {
          "model_module": "@jupyter-widgets/controls",
          "model_name": "ProgressStyleModel",
          "model_module_version": "1.5.0",
          "state": {
            "_model_module": "@jupyter-widgets/controls",
            "_model_module_version": "1.5.0",
            "_model_name": "ProgressStyleModel",
            "_view_count": null,
            "_view_module": "@jupyter-widgets/base",
            "_view_module_version": "1.2.0",
            "_view_name": "StyleView",
            "bar_color": null,
            "description_width": ""
          }
        },
        "e9f5255379cb452187ddf07fa2a04f5e": {
          "model_module": "@jupyter-widgets/base",
          "model_name": "LayoutModel",
          "model_module_version": "1.2.0",
          "state": {
            "_model_module": "@jupyter-widgets/base",
            "_model_module_version": "1.2.0",
            "_model_name": "LayoutModel",
            "_view_count": null,
            "_view_module": "@jupyter-widgets/base",
            "_view_module_version": "1.2.0",
            "_view_name": "LayoutView",
            "align_content": null,
            "align_items": null,
            "align_self": null,
            "border": null,
            "bottom": null,
            "display": null,
            "flex": null,
            "flex_flow": null,
            "grid_area": null,
            "grid_auto_columns": null,
            "grid_auto_flow": null,
            "grid_auto_rows": null,
            "grid_column": null,
            "grid_gap": null,
            "grid_row": null,
            "grid_template_areas": null,
            "grid_template_columns": null,
            "grid_template_rows": null,
            "height": null,
            "justify_content": null,
            "justify_items": null,
            "left": null,
            "margin": null,
            "max_height": null,
            "max_width": null,
            "min_height": null,
            "min_width": null,
            "object_fit": null,
            "object_position": null,
            "order": null,
            "overflow": null,
            "overflow_x": null,
            "overflow_y": null,
            "padding": null,
            "right": null,
            "top": null,
            "visibility": null,
            "width": null
          }
        },
        "f544c9d4026840f8a57536eaeb1056c3": {
          "model_module": "@jupyter-widgets/controls",
          "model_name": "DescriptionStyleModel",
          "model_module_version": "1.5.0",
          "state": {
            "_model_module": "@jupyter-widgets/controls",
            "_model_module_version": "1.5.0",
            "_model_name": "DescriptionStyleModel",
            "_view_count": null,
            "_view_module": "@jupyter-widgets/base",
            "_view_module_version": "1.2.0",
            "_view_name": "StyleView",
            "description_width": ""
          }
        }
      }
    }
  },
  "cells": [
    {
      "cell_type": "markdown",
      "source": [
        "### Installing required packages"
      ],
      "metadata": {
        "id": "BYHAaswFCEPP"
      }
    },
    {
      "cell_type": "code",
      "source": [
        "# import locale\n",
        "# locale.getpreferredencoding = lambda: \"UTF-8\""
      ],
      "metadata": {
        "id": "k8fUeW20pnQp"
      },
      "execution_count": 1,
      "outputs": []
    },
    {
      "cell_type": "code",
      "source": [
        "!pip install transformers\n",
        "!pip install rouge\n",
        "!pip install sentencepiece\n",
        "!pip install evaluate"
      ],
      "metadata": {
        "id": "bEC154Ld5Oqn"
      },
      "execution_count": null,
      "outputs": []
    },
    {
      "cell_type": "markdown",
      "source": [
        "### Importing libraries for further use"
      ],
      "metadata": {
        "id": "rLfPQT8ACH4C"
      }
    },
    {
      "cell_type": "code",
      "source": [
        "import torch\n",
        "device = \"cuda\" if torch.cuda.is_available() else \"cpu\"\n",
        "\n",
        "from transformers import set_seed\n",
        "set_seed(42)\n",
        "\n",
        "import time\n",
        "import textwrap\n",
        "import sentencepiece\n",
        "\n",
        "import nltk\n",
        "nltk.download('punkt')\n",
        "from nltk.translate.bleu_score import sentence_bleu\n",
        "from rouge import Rouge\n",
        "from evaluate import load"
      ],
      "metadata": {
        "id": "IyLS8tIkPou8",
        "colab": {
          "base_uri": "https://localhost:8080/"
        },
        "outputId": "82f585f6-dfc3-4d28-8336-530f70ff0867"
      },
      "execution_count": 2,
      "outputs": [
        {
          "output_type": "stream",
          "name": "stderr",
          "text": [
            "[nltk_data] Downloading package punkt to /root/nltk_data...\n",
            "[nltk_data]   Unzipping tokenizers/punkt.zip.\n"
          ]
        }
      ]
    },
    {
      "cell_type": "markdown",
      "source": [
        "# Text generation using pre-trained large language models"
      ],
      "metadata": {
        "id": "uL_lXfihFwLq"
      }
    },
    {
      "cell_type": "markdown",
      "source": [
        "This notebook serves as an implementation of a final practical project for the course \"Natural Language Processing\" taking place in Faculty of Mathematics and Informatics, Vilnius University, 2023. The main goal of the project is to generate text, conditioned on the beginning of a sentence. In this notebook, several pre-trained models, including `GPT2`, `GPT2-xl`, `T5`, `XL-Net` are employed to complete this task. Before that, different decoding methods are being explored to find the best parameters. Further, the text is generated with each `transformer` using the most optimal parameters. The quality of generated results is then evaluated using Perplexity score."
      ],
      "metadata": {
        "id": "tjVokZrkG9fE"
      }
    },
    {
      "cell_type": "markdown",
      "source": [
        "### Initialization of the models and tokenizers"
      ],
      "metadata": {
        "id": "S_rUA7tdDMOR"
      }
    },
    {
      "cell_type": "code",
      "source": [
        "# Define a function to initialize 1 of 4 pre-trained models; the function\n",
        "# returns the model and the tokenizer\n",
        "\n",
        "def initialize_model(name, device):\n",
        "  match name:\n",
        "    # gpt2-mini model\n",
        "    case 'gpt2':\n",
        "      from transformers import GPT2Tokenizer, GPT2LMHeadModel\n",
        "\n",
        "      tokenizer = GPT2Tokenizer.from_pretrained('gpt2',\n",
        "                                                padding_side=\"left\")\n",
        "      tokenizer.pad_token = tokenizer.eos_token\n",
        "      model = GPT2LMHeadModel.from_pretrained('gpt2',\n",
        "                                              pad_token_id=tokenizer.eos_token_id).to(device) # Add the EOS token as PAD token to avoid warnings\n",
        "    # gpt2 model\n",
        "    case 'gpt2-xl':\n",
        "      from transformers import GPT2Tokenizer, GPT2LMHeadModel\n",
        "\n",
        "      tokenizer = GPT2Tokenizer.from_pretrained('gpt2-xl',\n",
        "                                                padding_side=\"left\")\n",
        "      tokenizer.pad_token = tokenizer.eos_token\n",
        "      model = GPT2LMHeadModel.from_pretrained('gpt2-xl',\n",
        "                                              pad_token_id=tokenizer.eos_token_id).to(device)\n",
        "    # T5 model\n",
        "    case 't5':\n",
        "      from transformers import T5Tokenizer, T5ForConditionalGeneration\n",
        "\n",
        "      tokenizer = T5Tokenizer.from_pretrained('t5-base')\n",
        "      model = T5ForConditionalGeneration.from_pretrained('t5-base').to(device)\n",
        "\n",
        "    # xl-net model\n",
        "    case 'xl-net':\n",
        "      from transformers import XLNetTokenizer, XLNetLMHeadModel\n",
        "\n",
        "      tokenizer = XLNetTokenizer.from_pretrained('xlnet-large-cased')\n",
        "      model = XLNetLMHeadModel.from_pretrained('xlnet-large-cased').to(device)\n",
        "\n",
        "    case '_':\n",
        "      tokenizer = []\n",
        "      model = []\n",
        "      print('Model and Tokenizer not initialized. Returning empty lists')\n",
        "\n",
        "  return tokenizer, model"
      ],
      "metadata": {
        "id": "RGRxLjoPSj0h"
      },
      "execution_count": 41,
      "outputs": []
    },
    {
      "cell_type": "markdown",
      "source": [
        "### Additional functions for printing the results in a type-like effect"
      ],
      "metadata": {
        "id": "IiZZvVxGL9w7"
      }
    },
    {
      "cell_type": "code",
      "source": [
        "# A function that delays the output to make the type-like effect\n",
        "def type_like_effect(text, delay=0.025):\n",
        "\n",
        "    for char in text:\n",
        "        print(char, end='', flush=True)\n",
        "        time.sleep(delay)\n",
        "    print()\n",
        "\n",
        "# A function to decode the generated output of a model\n",
        "def decode_result(output, tokenizer):\n",
        "\n",
        "    output_text = tokenizer.decode(output, skip_special_tokens=True)\n",
        "    output_text = truncate_until_period(output_text)\n",
        "    return output_text\n",
        "\n",
        "# A function that prints the output with a type-like effect surrounded by a box\n",
        "def print_result(output, tokenizer):\n",
        "\n",
        "    width = 120\n",
        "    border_char = '-'\n",
        "\n",
        "    output_text = decode_result(output, tokenizer)\n",
        "\n",
        "    border = border_char * width\n",
        "    wrapped_text = textwrap.fill(output_text, width-4)  # Adjust width for padding\n",
        "\n",
        "    print(border)\n",
        "    for line in wrapped_text.split('\\n'):\n",
        "        formatted_line = f\"| {line:<{width-4}} |\"\n",
        "        type_like_effect(formatted_line)\n",
        "    print(border)\n",
        "\n",
        "# A function that truncates the sentence if it does not end on a period\n",
        "def truncate_until_period(sentence):\n",
        "    words = sentence.split()\n",
        "\n",
        "    if len(words) == 0 or all(word[-1] not in '.?!' for word in words):\n",
        "        return sentence\n",
        "    else:\n",
        "        if words[-1][-1] in '.?!':\n",
        "            return sentence\n",
        "        else:\n",
        "            truncated_sentence = ' '.join(words[:-1])\n",
        "            return truncate_until_period(truncated_sentence)\n"
      ],
      "metadata": {
        "id": "LlgnN-oQL9Mc"
      },
      "execution_count": 46,
      "outputs": []
    },
    {
      "cell_type": "markdown",
      "source": [
        "## Searching for the best decoding method for language generation with GPT2"
      ],
      "metadata": {
        "id": "xri8wsOKCRhx"
      }
    },
    {
      "cell_type": "markdown",
      "source": [
        "Initializing the `GPT2` model and its tokenizer. Entering beginning of a sentence and encoding the text input."
      ],
      "metadata": {
        "id": "z85Aic9eOoe1"
      }
    },
    {
      "cell_type": "code",
      "source": [
        "input_text = \"My favorite food is \"\n",
        "\n",
        "# Initialize the model and the tokenizer\n",
        "tokenizer, model = initialize_model(name='gpt2', device=device)\n",
        "\n",
        "# Encode the input text\n",
        "input_tokens = tokenizer.encode(input_text, return_tensors='pt', padding=True).to(device)"
      ],
      "metadata": {
        "id": "1mqle99HVYUe",
        "colab": {
          "base_uri": "https://localhost:8080/",
          "height": 209,
          "referenced_widgets": [
            "aefb811ed3284091b0bb95322e6b2a9e",
            "7267d26bfcc94767891bd8292d9d517a",
            "650b7d5cd7564e639dd2c8c2298d47e8",
            "bc933448fc8f47909ad2934f1a42562f",
            "8fb2236297aa43b985aa0a1d979e3e93",
            "c5be2ce476244926a90865fa0ddf6828",
            "2e9712e4526741a48ca233c8cdd9e894",
            "29cfd69cb4b0474ba85f4450b97455d9",
            "5a430881227147b2b752deb404ef6ec7",
            "b5e933a765c542489791138aac4d72d4",
            "58050b38f40f4dda9e9dc6a3340aea5f",
            "66b0fb7204a64ca592f1dc1f68ed71ac",
            "0547dad68b0648829dbf8790c826d138",
            "a227f7471be44839891d8fa55cec7cbe",
            "e1130682537241b49eb2c98fb1ee38cb",
            "5ff35ceede174f26a19475d02bf8aa05",
            "76e36d7642e84882a07c3ef346d9660c",
            "d34a25e19ecc465d8bac88fdc06a7ebc",
            "3cec94fafb104fe7bb86afebc35b961b",
            "b5b8f04b9da04254b257954ec044cd33",
            "c71682f045a642838f84a82ea4861cdd",
            "c34c24ec3dae4e3d9cbf1ebac5f6e500",
            "3ea09f53353e4bc59465ab5970bb2145",
            "d63cf6c497d74c779d59c403a124d15b",
            "0c9bd4a545fb4638a6bce9bc02a1d279",
            "f210b63ba2fc49abab8c55aaf0df704c",
            "d42e5a72451a4613866d6377a2b33da0",
            "d4acb4b6fc7845238bae2134618eee6d",
            "95252d259ef44424ab9eb64219b6b266",
            "0eba64f54ffe4fd5b4f9720a0b9b630b",
            "a19c179e3d3440ad8494cd0ca47cb585",
            "20a30ae233694b298723b774dd9fa880",
            "ed3e89bdbbb543ee9de29af2a5494ba0",
            "cf27a6bae4c14c94a6aebbcc54c513df",
            "b3166a1d0982496f918fa4c46b8cb2d8",
            "e49fca6cc57f45b5b904b086013fbbdf",
            "d6804489f57e4a418893850cb5013bf9",
            "966d773853334b12864dbc19699b4b69",
            "3d2ef4abead046ffb0318609d46c1035",
            "90db2bcd642b4354933f64b28c8d2845",
            "04650e62802247388eac38e11a1c4b91",
            "095d655c724640a0809e5fcbc727ed46",
            "66471cc1378548458996df2033082a1d",
            "c060df953f72462c9558b1c6dfc59b59",
            "0bc7e36f5f054926a801a9221cfdfc6b",
            "2400d6c9df084595b08c44aa1eb4a5b5",
            "fee2e938f1e64c6bb876c0d73098cbd0",
            "83d5fd3ff2b1498489b41f48bc6c3056",
            "6275915297c64d3ebd9aedf1a009146c",
            "5937896db09748d3a4e6f2fb67033216",
            "c4e7933a52af4dce8604afd15336aff0",
            "656cf9115b1447d8ba4a88d3cb28db5b",
            "194a1a83a0414254a60affcd78647bf7",
            "b952b335654549e190a9b2e5328cfd97",
            "e256497b435a40d8a103294243ee62b1",
            "538cfb8b62be4ded8a26b320372545c9",
            "956a448895aa4873951ae8c198e1c2e4",
            "d9f6439e36834b75b6518316025fb252",
            "e79385b0f9e54c2f85f666287ee37486",
            "bf1a842ef8a54159be23b50f7d618ae4",
            "82243557de114212a14d15e437b8ae09",
            "af9d54c5fb6e4547b517603dca174730",
            "8e7a83d2e82d468abe126fff8b22ccb1",
            "e00bb02dadc6437b819b27786fcb169e",
            "e22841b868bc459d8eda0baebd86a1c4",
            "55aea5d107294847bb533d40dd4723ef"
          ]
        },
        "outputId": "6ffce40b-ad78-4e0f-95f3-f709f5bb8d5b"
      },
      "execution_count": 6,
      "outputs": [
        {
          "output_type": "display_data",
          "data": {
            "text/plain": [
              "vocab.json:   0%|          | 0.00/1.04M [00:00<?, ?B/s]"
            ],
            "application/vnd.jupyter.widget-view+json": {
              "version_major": 2,
              "version_minor": 0,
              "model_id": "aefb811ed3284091b0bb95322e6b2a9e"
            }
          },
          "metadata": {}
        },
        {
          "output_type": "display_data",
          "data": {
            "text/plain": [
              "merges.txt:   0%|          | 0.00/456k [00:00<?, ?B/s]"
            ],
            "application/vnd.jupyter.widget-view+json": {
              "version_major": 2,
              "version_minor": 0,
              "model_id": "66b0fb7204a64ca592f1dc1f68ed71ac"
            }
          },
          "metadata": {}
        },
        {
          "output_type": "display_data",
          "data": {
            "text/plain": [
              "tokenizer.json:   0%|          | 0.00/1.36M [00:00<?, ?B/s]"
            ],
            "application/vnd.jupyter.widget-view+json": {
              "version_major": 2,
              "version_minor": 0,
              "model_id": "3ea09f53353e4bc59465ab5970bb2145"
            }
          },
          "metadata": {}
        },
        {
          "output_type": "display_data",
          "data": {
            "text/plain": [
              "config.json:   0%|          | 0.00/665 [00:00<?, ?B/s]"
            ],
            "application/vnd.jupyter.widget-view+json": {
              "version_major": 2,
              "version_minor": 0,
              "model_id": "cf27a6bae4c14c94a6aebbcc54c513df"
            }
          },
          "metadata": {}
        },
        {
          "output_type": "display_data",
          "data": {
            "text/plain": [
              "model.safetensors:   0%|          | 0.00/548M [00:00<?, ?B/s]"
            ],
            "application/vnd.jupyter.widget-view+json": {
              "version_major": 2,
              "version_minor": 0,
              "model_id": "0bc7e36f5f054926a801a9221cfdfc6b"
            }
          },
          "metadata": {}
        },
        {
          "output_type": "display_data",
          "data": {
            "text/plain": [
              "generation_config.json:   0%|          | 0.00/124 [00:00<?, ?B/s]"
            ],
            "application/vnd.jupyter.widget-view+json": {
              "version_major": 2,
              "version_minor": 0,
              "model_id": "538cfb8b62be4ded8a26b320372545c9"
            }
          },
          "metadata": {}
        }
      ]
    },
    {
      "cell_type": "markdown",
      "source": [
        "### 1. **Greedy search**"
      ],
      "metadata": {
        "id": "844I2bkjOzQE"
      }
    },
    {
      "cell_type": "markdown",
      "source": [
        "**Greedy search** is a simple text generation strategy. It selects the word with the highest probability as its next word at each time step."
      ],
      "metadata": {
        "id": "Nbd9U-K4OCpG"
      }
    },
    {
      "cell_type": "code",
      "source": [
        "# Generate new tokens using Greedy search\n",
        "with torch.no_grad():\n",
        "  greedy_output = model.generate(\n",
        "      input_tokens,\n",
        "      max_new_tokens=25,\n",
        "      num_return_sequences=1\n",
        "  )\n",
        "\n",
        "print_result(greedy_output[0], tokenizer)"
      ],
      "metadata": {
        "colab": {
          "base_uri": "https://localhost:8080/"
        },
        "id": "YQR7oTU2MENk",
        "outputId": "dfc3434a-43e5-4684-a0f3-ec5dcb545849"
      },
      "execution_count": 7,
      "outputs": [
        {
          "output_type": "stream",
          "name": "stdout",
          "text": [
            "------------------------------------------------------------------------------------------------------------------------\n",
            "| My favorite food is iced tea. I love it. I love it. I love it. I love it. I love it.                                 |\n",
            "------------------------------------------------------------------------------------------------------------------------\n"
          ]
        }
      ]
    },
    {
      "cell_type": "markdown",
      "source": [
        "The generated text seems to have a reasonable context, but starts *repeating* quickly. This is a frequent problem with these simple text generation models. We will try to mitigate this problem shortly. Major drawback of Greedy search is that it misses high probability words hidden behind a low probability word."
      ],
      "metadata": {
        "id": "9wJBykKKTKyj"
      }
    },
    {
      "cell_type": "markdown",
      "source": [
        "### 2. **Beam search**"
      ],
      "metadata": {
        "id": "ZrgvymP7O6cl"
      }
    },
    {
      "cell_type": "markdown",
      "source": [
        "**Beam search** reduces this problem by keeping the most likely num_beams of hypotheses at each time step and eventually choosing the hypothesis with the highest overall probability."
      ],
      "metadata": {
        "id": "3rCkmi1oXgY2"
      }
    },
    {
      "cell_type": "code",
      "source": [
        "# Generate new tokens using Beam search and early_stopping\n",
        "with torch.no_grad():\n",
        "  beam_output = model.generate(\n",
        "      input_tokens,\n",
        "      max_new_tokens=25,\n",
        "      num_beams=5,\n",
        "      early_stopping=True\n",
        "  )\n",
        "\n",
        "print_result(beam_output[0], tokenizer)"
      ],
      "metadata": {
        "colab": {
          "base_uri": "https://localhost:8080/"
        },
        "id": "nloesuthYUpI",
        "outputId": "e0948d06-240c-449a-bcb9-4d02483e009e"
      },
      "execution_count": 8,
      "outputs": [
        {
          "output_type": "stream",
          "name": "stdout",
          "text": [
            "------------------------------------------------------------------------------------------------------------------------\n",
            "| My favorite food is iced tea. I love it. I love it. I love it. I love it. I love it.                                 |\n",
            "------------------------------------------------------------------------------------------------------------------------\n"
          ]
        }
      ]
    },
    {
      "cell_type": "markdown",
      "source": [
        "The result is noticeably more fluent, however, the repetition still appears after some time steps. One way to reduce repetition is to introduce **n-gram penalties**."
      ],
      "metadata": {
        "id": "-ejCwW7LZBtz"
      }
    },
    {
      "cell_type": "markdown",
      "source": [
        "### 3. **n-gram penalties**"
      ],
      "metadata": {
        "id": "bzr_3XLPPIBB"
      }
    },
    {
      "cell_type": "markdown",
      "source": [
        "The most common one makes sure, that no n-gram appears twice by manually setting the probability of the next word that could create already seen n-gram to 0."
      ],
      "metadata": {
        "id": "BVMiFP-OPKut"
      }
    },
    {
      "cell_type": "code",
      "source": [
        "# Add no_repeat_ngram_size constraint\n",
        "with torch.no_grad():\n",
        "  beam_output = model.generate(\n",
        "      input_tokens,\n",
        "      max_new_tokens=40,\n",
        "      num_beams=5,\n",
        "      no_repeat_ngram_size=2,\n",
        "      early_stopping=True\n",
        "  )\n",
        "\n",
        "print_result(beam_output[0], tokenizer)"
      ],
      "metadata": {
        "colab": {
          "base_uri": "https://localhost:8080/"
        },
        "id": "B3BUMCDoZzEa",
        "outputId": "6d5e0069-f4e0-4e4d-dc70-2099e32da45d"
      },
      "execution_count": 9,
      "outputs": [
        {
          "output_type": "stream",
          "name": "stdout",
          "text": [
            "------------------------------------------------------------------------------------------------------------------------\n",
            "| My favorite food is iced tea.  I'm not sure if I'll ever be able to make it again, but I'm going to try it and see   |\n",
            "| what I can come up with.                                                                                             |\n",
            "------------------------------------------------------------------------------------------------------------------------\n"
          ]
        }
      ]
    },
    {
      "cell_type": "markdown",
      "source": [
        "The resulting text finally has no repetition in it! Nevertheless, n-grams should be used with care, as the penalty does not allow the repetition of any n-word sequences."
      ],
      "metadata": {
        "id": "t649rPZTZ9uD"
      }
    },
    {
      "cell_type": "markdown",
      "source": [
        "**Beam search** is effective in tasks where the length of the generation is predictable, i.e. machine translations or summarization. However, it struggles with generating text without repetition,  which is very hard to control using n-gram penalties."
      ],
      "metadata": {
        "id": "PumuCVUYbW5G"
      }
    },
    {
      "cell_type": "markdown",
      "source": [
        "High quality human language does not follow a distribution of highest\n",
        "probability words [Ari Holtzman et al. 2019] (quite paradoxal), which indicates that blindly picking the most probable word in a sequence may not yeld the best result."
      ],
      "metadata": {
        "id": "FFl6Ax9Xc03d"
      }
    },
    {
      "cell_type": "markdown",
      "source": [
        "### 4. **Sampling**"
      ],
      "metadata": {
        "id": "nIOaEniHPl_X"
      }
    },
    {
      "cell_type": "markdown",
      "source": [
        "In order to generate more random output, instead of picking the most probable word, we need to **sample** the word from its (conditional) probability mass function (distribution)."
      ],
      "metadata": {
        "id": "pkh0NQhmPrFm"
      }
    },
    {
      "cell_type": "code",
      "source": [
        "# Activate sampling and deactivate top_k\n",
        "with torch.no_grad():\n",
        "  sample_output = model.generate(\n",
        "      input_tokens,\n",
        "      max_new_tokens=50,\n",
        "      do_sample=True,\n",
        "      top_k=0\n",
        "  )\n",
        "\n",
        "print_result(sample_output[0], tokenizer)"
      ],
      "metadata": {
        "colab": {
          "base_uri": "https://localhost:8080/"
        },
        "id": "HxP9K-qSd0OL",
        "outputId": "aec37276-c44f-414d-88b4-ae47802f3e4a"
      },
      "execution_count": 10,
      "outputs": [
        {
          "output_type": "stream",
          "name": "stdout",
          "text": [
            "------------------------------------------------------------------------------------------------------------------------\n",
            "| My favorite food is iced tea. Often it's the same story. Love it, love making it and laugh at it with my 6 year old  |\n",
            "| Auctie. My year is always awesome!! This place is great *I absolutely adore Mr.                                      |\n",
            "------------------------------------------------------------------------------------------------------------------------\n"
          ]
        }
      ]
    },
    {
      "cell_type": "markdown",
      "source": [
        "The generated text seems to not have any semantic sence. The models often generate incoherent text when sampling words from their distribution."
      ],
      "metadata": {
        "id": "BPslwxr7h5un"
      }
    },
    {
      "cell_type": "markdown",
      "source": [
        "### 5. **Temperature**"
      ],
      "metadata": {
        "id": "_itJLlOxNmkw"
      }
    },
    {
      "cell_type": "markdown",
      "source": [
        "To overcome this, distribution could be made sharper (decrease the probability of low probability candidates) by lowering the **temperature** parameter of the softmax function."
      ],
      "metadata": {
        "id": "gWVsuNsOP3wJ"
      }
    },
    {
      "cell_type": "code",
      "source": [
        "# Add temperature\n",
        "with torch.no_grad():\n",
        "  sample_output = model.generate(\n",
        "      input_tokens,\n",
        "      max_new_tokens=40,\n",
        "      do_sample=True,\n",
        "      top_k=0,\n",
        "      temperature=0.7\n",
        "  )\n",
        "\n",
        "print_result(sample_output[0], tokenizer)"
      ],
      "metadata": {
        "colab": {
          "base_uri": "https://localhost:8080/"
        },
        "id": "54ORowQsjIoO",
        "outputId": "043a809f-9caf-4ef2-f502-d2199cbfd320"
      },
      "execution_count": 11,
      "outputs": [
        {
          "output_type": "stream",
          "name": "stdout",
          "text": [
            "------------------------------------------------------------------------------------------------------------------------\n",
            "| My favorite food is iced coffee, and I love that I can order fresh. I usually order a spicy or spicy-but-not-sour    |\n",
            "| mixed with a cup of vanilla ice cream.                                                                               |\n",
            "------------------------------------------------------------------------------------------------------------------------\n"
          ]
        }
      ]
    },
    {
      "cell_type": "markdown",
      "source": [
        "The output seems less gibberish with the temperature applied. When setting temperature -> 0, the sampling becomes identical to that of Greedy search, making the same problems appear once again."
      ],
      "metadata": {
        "id": "VuZ_DI_lkoBx"
      }
    },
    {
      "cell_type": "markdown",
      "source": [
        "### 6. **Top-K Sampling**"
      ],
      "metadata": {
        "id": "UUnujyCXOH6I"
      }
    },
    {
      "cell_type": "markdown",
      "source": [
        "Top-K sampling is a sampling scheme, which filters and redistributes the\n",
        "probability mass among the K most likely next words [Fan et al. 2018]."
      ],
      "metadata": {
        "id": "i4RTvoxXlAIx"
      }
    },
    {
      "cell_type": "code",
      "source": [
        "# Apply top_k sampling\n",
        "with torch.no_grad():\n",
        "  sample_output = model.generate(\n",
        "      input_tokens,\n",
        "      max_new_tokens=40,\n",
        "      do_sample=True,\n",
        "      top_k=45\n",
        "  )\n",
        "\n",
        "print_result(sample_output[0], tokenizer)"
      ],
      "metadata": {
        "colab": {
          "base_uri": "https://localhost:8080/"
        },
        "id": "Xyz8xWU5mPFV",
        "outputId": "84ff01aa-0592-4d9d-8b03-39a33250d6e9"
      },
      "execution_count": 12,
      "outputs": [
        {
          "output_type": "stream",
          "name": "stdout",
          "text": [
            "------------------------------------------------------------------------------------------------------------------------\n",
            "| My favorite food is iced. I have never been able to take a shower and just lay down, without putting anything down.  |\n",
            "| My favorite way to pee in the bath is outside.                                                                       |\n",
            "------------------------------------------------------------------------------------------------------------------------\n"
          ]
        }
      ]
    },
    {
      "cell_type": "markdown",
      "source": [
        "The text is more human sounding than the previous results. However, top-K sampling technique does not adapt to the number of words that are filtered from the next word probability mass function."
      ],
      "metadata": {
        "id": "rbKG1q3kneEK"
      }
    },
    {
      "cell_type": "markdown",
      "source": [
        "### 7. **Top-P Sampling**"
      ],
      "metadata": {
        "id": "-LM062f4O1DZ"
      }
    },
    {
      "cell_type": "markdown",
      "source": [
        "Instead of sampling from K words, top-P sampling chooses from the smallest possible set of words whose cumulative probability exceeds P. The mass is then redistributed between these words."
      ],
      "metadata": {
        "id": "LrJQUug_QQVW"
      }
    },
    {
      "cell_type": "code",
      "source": [
        "# Activate top_p sampling\n",
        "with torch.no_grad():\n",
        "  sample_output = model.generate(\n",
        "      input_tokens,\n",
        "      max_new_tokens=40,\n",
        "      do_sample=True,\n",
        "      top_p=0.92,\n",
        "      top_k=0\n",
        "  )\n",
        "\n",
        "print_result(sample_output[0], tokenizer)"
      ],
      "metadata": {
        "colab": {
          "base_uri": "https://localhost:8080/"
        },
        "id": "Wk2Huffvotzr",
        "outputId": "a171b714-0196-4d60-c74d-731e9e6d4f0f"
      },
      "execution_count": 13,
      "outputs": [
        {
          "output_type": "stream",
          "name": "stdout",
          "text": [
            "------------------------------------------------------------------------------------------------------------------------\n",
            "| My favorite food is iced alfredo. Great price. I didn't have much to eat and was very impressed with the quality of  |\n",
            "| the fresh ingredients. The service was great and it arrived quickly.                                                 |\n",
            "------------------------------------------------------------------------------------------------------------------------\n"
          ]
        }
      ]
    },
    {
      "cell_type": "markdown",
      "source": [
        "### 8. **Final Result**"
      ],
      "metadata": {
        "id": "Q9pZWuqpQV-T"
      }
    },
    {
      "cell_type": "markdown",
      "source": [
        "To compare the quality of generated text, let us get multiple independently sampled outputs using the parameter **return_num_sequences**. Also, lets add a **repetition_penalty** parameter, set **no_repeat_ngram_size** to 5, and alter the **temperature**, **top-k** and **top-p** parameters."
      ],
      "metadata": {
        "id": "80HwOUW5pM31"
      }
    },
    {
      "cell_type": "code",
      "source": [
        "# Generate 3 sentences\n",
        "with torch.no_grad():\n",
        "  sample_outputs = model.generate(\n",
        "      input_tokens,\n",
        "      max_new_tokens=50,\n",
        "      do_sample=True,\n",
        "      repetition_penalty=1.3,\n",
        "      no_repeat_ngram_size=5,\n",
        "      temperature=0.95,\n",
        "      top_p=0.8,\n",
        "      top_k=40,\n",
        "      num_return_sequences=3,\n",
        "  )\n",
        "\n",
        "for i, output in enumerate(sample_outputs):\n",
        "  print_result(sample_outputs[i], tokenizer)"
      ],
      "metadata": {
        "colab": {
          "base_uri": "https://localhost:8080/"
        },
        "id": "PkWNOLVKpfFu",
        "outputId": "5be891b5-cd7c-490c-af68-d705945d2ea2"
      },
      "execution_count": 14,
      "outputs": [
        {
          "output_type": "stream",
          "name": "stdout",
          "text": [
            "------------------------------------------------------------------------------------------------------------------------\n",
            "| My favorite food is that we can eat together.                                                                        |\n",
            "------------------------------------------------------------------------------------------------------------------------\n",
            "------------------------------------------------------------------------------------------------------------------------\n",
            "| My favorite food is iced tea.                                                                                        |\n",
            "------------------------------------------------------------------------------------------------------------------------\n",
            "------------------------------------------------------------------------------------------------------------------------\n",
            "| My favorite food is iced tea. It's a great alternative to eating plain vanilla ice cream or regular sugar cookies    |\n",
            "| because the sweetness and flavors are so much richer, with just enough of everything you could need in it for good   |\n",
            "| taste (like strawberry).                                                                                             |\n",
            "------------------------------------------------------------------------------------------------------------------------\n"
          ]
        }
      ]
    },
    {
      "cell_type": "markdown",
      "source": [
        "## Using the best decoding parameters for other pre-trained models"
      ],
      "metadata": {
        "id": "Z0AMCUYHQ7ex"
      }
    },
    {
      "cell_type": "markdown",
      "source": [
        "4 transformer-based models are used: `GPT2`, `GPT2-xl`, `T5`, `XL-Net`. The tokenizers are being decoded using the parameters, obtained in the previous manual search."
      ],
      "metadata": {
        "id": "Hs1YWJsZRF63"
      }
    },
    {
      "cell_type": "code",
      "source": [
        "input_text = \"My favorite food is \"\n",
        "\n",
        "# Initializing the models and their tokenizers\n",
        "tokenizer_gpt2, model_gpt2 = initialize_model(name='gpt2', device=device)\n",
        "tokenizer_gpt2xl, model_gpt2xl = initialize_model(name='gpt2-xl', device=device)\n",
        "tokenizer_t5, model_t5 = initialize_model(name='t5', device=device)\n",
        "tokenizer_xlnet, model_xlnet = initialize_model(name='xl-net', device=device)\n",
        "\n",
        "# Encoding the text input with each model's tokenizer\n",
        "input_gpt2 = tokenizer_gpt2.encode(input_text, return_tensors='pt', padding=True).to(device)\n",
        "input_gpt2xl = tokenizer_gpt2xl.encode(input_text, return_tensors='pt', padding=True).to(device)\n",
        "input_t5 = tokenizer_t5.encode(input_text, return_tensors='pt').to(device)\n",
        "input_xlnet = tokenizer_xlnet.encode(input_text, add_special_tokens=False, return_tensors=\"pt\").to(device)"
      ],
      "metadata": {
        "colab": {
          "base_uri": "https://localhost:8080/"
        },
        "id": "drwFR---R58Z",
        "outputId": "3f62c87e-1689-4387-cac2-fb95fc0b43b9"
      },
      "execution_count": 48,
      "outputs": [
        {
          "output_type": "stream",
          "name": "stderr",
          "text": [
            "Special tokens have been added in the vocabulary, make sure the associated word embeddings are fine-tuned or trained.\n"
          ]
        }
      ]
    },
    {
      "cell_type": "markdown",
      "source": [
        "### 1. **GPT2** Model"
      ],
      "metadata": {
        "id": "b7sn2p6LSn11"
      }
    },
    {
      "cell_type": "code",
      "source": [
        "# Generate, decode and print the GPT2 model output\n",
        "with torch.no_grad():\n",
        "  output_gpt2 = model_gpt2.generate(\n",
        "      input_gpt2,\n",
        "      max_new_tokens=50,\n",
        "      min_length=30,\n",
        "      do_sample=True,\n",
        "      repetition_penalty=1.3,\n",
        "      no_repeat_ngram_size=5,\n",
        "      temperature=0.95,\n",
        "      top_p=0.8,\n",
        "      top_k=100,\n",
        "      num_return_sequences=1,\n",
        "  )\n",
        "\n",
        "for i, output in enumerate(output_gpt2):\n",
        "  print_result(output_gpt2[i], tokenizer_gpt2)"
      ],
      "metadata": {
        "colab": {
          "base_uri": "https://localhost:8080/"
        },
        "id": "xsErAPd4Sqs7",
        "outputId": "6dc7e6a5-e065-4922-ae57-7769dd4f0d64"
      },
      "execution_count": 6,
      "outputs": [
        {
          "output_type": "stream",
          "name": "stdout",
          "text": [
            "------------------------------------------------------------------------------------------------------------------------\n",
            "| My favorite food is iced tea. It's something I really enjoy to have on hand, and it also has some good things going  |\n",
            "| for you (this will be the most helpful part of any meal in my opinion).                                              |\n",
            "------------------------------------------------------------------------------------------------------------------------\n"
          ]
        }
      ]
    },
    {
      "cell_type": "markdown",
      "source": [
        "### 2. **GPT2-XL** Model"
      ],
      "metadata": {
        "id": "Rd0ATytfvYDm"
      }
    },
    {
      "cell_type": "code",
      "source": [
        "# Generate, decode and print the GPT2-xl model output\n",
        "with torch.no_grad():\n",
        "  output_gpt2xl = model_gpt2xl.generate(\n",
        "      input_gpt2xl,\n",
        "      max_new_tokens=50,\n",
        "      min_length=30,\n",
        "      do_sample=True,\n",
        "      repetition_penalty=1.3,\n",
        "      no_repeat_ngram_size=5,\n",
        "      temperature=0.95,\n",
        "      top_p=0.8,\n",
        "      top_k=100,\n",
        "      num_return_sequences=1,\n",
        "  )\n",
        "\n",
        "for i, output in enumerate(output_gpt2xl):\n",
        "  print_result(output_gpt2xl[i], tokenizer_gpt2xl)"
      ],
      "metadata": {
        "colab": {
          "base_uri": "https://localhost:8080/"
        },
        "id": "lpOUJaFZvaQv",
        "outputId": "249bc9ca-3b7e-41c6-a61f-1819c0b40d79"
      },
      "execution_count": 17,
      "outputs": [
        {
          "output_type": "stream",
          "name": "stdout",
          "text": [
            "------------------------------------------------------------------------------------------------------------------------\n",
            "| My favorite food is iced tea (it was once my go-to dessert!) This recipe for Pumpkin Spice Cakes and Pancake         |\n",
            "| Crumbles I made back in 2009, uses a little pumpkin spice.                                                           |\n",
            "------------------------------------------------------------------------------------------------------------------------\n"
          ]
        }
      ]
    },
    {
      "cell_type": "markdown",
      "source": [
        "### 3. **T5** Model"
      ],
      "metadata": {
        "id": "S8vQgJzLCYNp"
      }
    },
    {
      "cell_type": "code",
      "source": [
        "# Generate, decode and print the T5 model output\n",
        "with torch.no_grad():\n",
        "  output_t5 = model_t5.generate(\n",
        "      input_t5,\n",
        "      min_length=30,\n",
        "      max_new_tokens=50,\n",
        "      do_sample=True,\n",
        "      repetition_penalty=1.3,\n",
        "      no_repeat_ngram_size=5,\n",
        "      temperature=0.95,\n",
        "      top_p=0.8,\n",
        "      top_k=100,\n",
        "      num_return_sequences=1,\n",
        "  )\n",
        "\n",
        "for i, output in enumerate(output_t5):\n",
        "  print_result(output_t5[i], tokenizer_t5)"
      ],
      "metadata": {
        "id": "3uEUGDyYCtS2",
        "colab": {
          "base_uri": "https://localhost:8080/"
        },
        "outputId": "fb9278bb-66ef-4984-8920-480998ab2fd5"
      },
      "execution_count": 58,
      "outputs": [
        {
          "output_type": "stream",
          "name": "stdout",
          "text": [
            "------------------------------------------------------------------------------------------------------------------------\n",
            "| food. My favorite food is fish. My favorite food I am most fond of is sushi. I like to eat sushi all the time.       |\n",
            "------------------------------------------------------------------------------------------------------------------------\n"
          ]
        }
      ]
    },
    {
      "cell_type": "markdown",
      "source": [
        "### 4. **XL-Net** Model"
      ],
      "metadata": {
        "id": "ihsgqstP1G6i"
      }
    },
    {
      "cell_type": "code",
      "source": [
        "# Generate, decode and print the XL-Net model output\n",
        "with torch.no_grad():\n",
        "  output_xlnet = model_xlnet.generate(\n",
        "      input_xlnet,\n",
        "      max_length=50,\n",
        "      temperature=1.0,\n",
        "      top_k=50,\n",
        "      top_p=0.96,\n",
        "      repetition_penalty=1.2,\n",
        "      do_sample=True,\n",
        "      num_return_sequences=1\n",
        "  )\n",
        "\n",
        "for i, output in enumerate(output_xlnet):\n",
        "  print_result(output_xlnet[i], tokenizer_xlnet)"
      ],
      "metadata": {
        "colab": {
          "base_uri": "https://localhost:8080/"
        },
        "id": "62LOu37Z6Kgh",
        "outputId": "f2fd373d-3149-44b2-aad8-f2ed34a0293c"
      },
      "execution_count": 66,
      "outputs": [
        {
          "output_type": "stream",
          "name": "stdout",
          "text": [
            "------------------------------------------------------------------------------------------------------------------------\n",
            "| My favorite food is as good and as a once be by when some how in all everything because of kind or back either which |\n",
            "| the better it to get for you on any front no ones always back around again though up more time even if there has     |\n",
            "------------------------------------------------------------------------------------------------------------------------\n"
          ]
        }
      ]
    },
    {
      "cell_type": "markdown",
      "source": [
        "## Evaluating the quality of generated text using automated metric"
      ],
      "metadata": {
        "id": "UsF-ocXaTg96"
      }
    },
    {
      "cell_type": "markdown",
      "source": [
        "**Perplexity** metric is used to evaluate the text, generated with the models. It is defined as the exponentiated average negative log-likelihood of a sequence of tokens. The range of this metric is [0, $\\infty$). A lower score is better.\n",
        "\n",
        "\n"
      ],
      "metadata": {
        "id": "_SQtSL1HT9kS"
      }
    },
    {
      "cell_type": "code",
      "source": [
        "# Initialize the perplexity metric\n",
        "perplexity_metric = load(\"perplexity\", module_type=\"metric\")"
      ],
      "metadata": {
        "colab": {
          "base_uri": "https://localhost:8080/",
          "height": 49,
          "referenced_widgets": [
            "23461c9c2ada4c0bb25a1e46e3e747e6",
            "dc6fd75e7d494c039fdcc8de02f2b4a2",
            "4d98295fcae84d3ea1e9af718210d028",
            "fa2ebe6bc5604f37907e66ba3fc490c5",
            "2a775d5fefee48848f688f2941ce6d94",
            "0d0e2a3b683c425fa6b6eecaf6121518",
            "3b71f94ce31c4a819cd5297a9905e2d4",
            "04a41cccdc10454aae071a94dc25f651",
            "775dbaa557934d188f86cb14709d8f4c",
            "64d0d78440c84dd79b58635f5ec9801a",
            "eafd0a2522364ba4b566cd25f57d85c3"
          ]
        },
        "id": "hYnrtJA1gIS8",
        "outputId": "5481e3be-5234-4bdc-e9a2-d2be126d244c"
      },
      "execution_count": 50,
      "outputs": [
        {
          "output_type": "display_data",
          "data": {
            "text/plain": [
              "Downloading builder script:   0%|          | 0.00/8.46k [00:00<?, ?B/s]"
            ],
            "application/vnd.jupyter.widget-view+json": {
              "version_major": 2,
              "version_minor": 0,
              "model_id": "23461c9c2ada4c0bb25a1e46e3e747e6"
            }
          },
          "metadata": {}
        }
      ]
    },
    {
      "cell_type": "markdown",
      "source": [
        "### 1. **GPT2 Perplexity**"
      ],
      "metadata": {
        "id": "mZoQtY3TdM81"
      }
    },
    {
      "cell_type": "code",
      "source": [
        "# Calculate the perplexity metric for GPT2 model\n",
        "decoded_gpt2 = decode_result(output_gpt2[0], tokenizer_gpt2)\n",
        "\n",
        "perplexity_gpt2 = perplexity_metric.compute(predictions=[decoded_gpt2], model_id='gpt2')['perplexities'][0]\n",
        "\n",
        "print(f'User Input: {input_text}')\n",
        "print('Generated Output:')\n",
        "print_result(output_gpt2[0], tokenizer_gpt2)\n",
        "print(f\"Perplexity: {perplexity_gpt2}\")"
      ],
      "metadata": {
        "id": "MARuLPHfX-d-",
        "colab": {
          "base_uri": "https://localhost:8080/",
          "height": 170,
          "referenced_widgets": [
            "7d50991c9e90444eac0dfac5fc703275",
            "8471d6c698be4f65a58ee31483e9f114",
            "480d62ee275549efb112ff3135f6d371",
            "8db0f650ead649678c49f25052f18188",
            "17fa938401824a78b48ad60153e9fcf3",
            "f182bc933916433690d0d9fbde32bb26",
            "777f33046c7145fe901ecd21d61073ed",
            "c9fbf3cd78874904a3063a7e2f8b8620",
            "007c80d9b731479dab4a3a02d384164b",
            "7b3f3572ba184ad0b5215811d2021c38",
            "df307834ccca42b4af73ef086774dd04"
          ]
        },
        "outputId": "90163717-717d-43e3-f65a-500a6da8769d"
      },
      "execution_count": 51,
      "outputs": [
        {
          "output_type": "display_data",
          "data": {
            "text/plain": [
              "  0%|          | 0/1 [00:00<?, ?it/s]"
            ],
            "application/vnd.jupyter.widget-view+json": {
              "version_major": 2,
              "version_minor": 0,
              "model_id": "7d50991c9e90444eac0dfac5fc703275"
            }
          },
          "metadata": {}
        },
        {
          "output_type": "stream",
          "name": "stdout",
          "text": [
            "User Input: My favorite food is \n",
            "Generated Output:\n",
            "------------------------------------------------------------------------------------------------------------------------\n",
            "| My favorite food is iced tea. It's something I really enjoy to have on hand, and it also has some good things going  |\n",
            "| for you (this will be the most helpful part of any meal in my opinion).                                              |\n",
            "------------------------------------------------------------------------------------------------------------------------\n",
            "Perplexity: 16.853282928466797\n"
          ]
        }
      ]
    },
    {
      "cell_type": "markdown",
      "source": [
        "### 2. **GPT2-XL Perplexity**"
      ],
      "metadata": {
        "id": "GdBIf1saX_xb"
      }
    },
    {
      "cell_type": "code",
      "source": [
        "# Calculate the perplexity metric for GPT2-xl model\n",
        "decoded_gpt2xl = decode_result(output_gpt2xl[0], tokenizer_gpt2xl)\n",
        "\n",
        "perplexity_gpt2xl = perplexity_metric.compute(predictions=[decoded_gpt2xl], model_id='gpt2-xl')['perplexities'][0]\n",
        "\n",
        "print(f'User Input: {input_text}')\n",
        "print('Generated Output:')\n",
        "print_result(output_gpt2xl[0], tokenizer_gpt2xl)\n",
        "print(f\"Perplexity: {perplexity_gpt2xl}\")"
      ],
      "metadata": {
        "id": "PpIRaRYvf06v"
      },
      "execution_count": null,
      "outputs": []
    },
    {
      "cell_type": "markdown",
      "source": [
        "### 3. **T5 Perplexity**"
      ],
      "metadata": {
        "id": "ncVMrN-wgmpP"
      }
    },
    {
      "cell_type": "markdown",
      "source": [
        "Perplexity score is not compatable with T5 model"
      ],
      "metadata": {
        "id": "TFPdWTwDxAXu"
      }
    },
    {
      "cell_type": "markdown",
      "source": [
        "### 4. **XL-Net Perplexity**"
      ],
      "metadata": {
        "id": "-POlzaGng9fe"
      }
    },
    {
      "cell_type": "code",
      "source": [
        "# Calculate the perplexity metric for XL-Net model\n",
        "decoded_xlnet = decode_result(output_xlnet[0], tokenizer_xlnet)\n",
        "\n",
        "perplexity_xlnet = perplexity_metric.compute(predictions=[decoded_xlnet], model_id='xlnet-large-cased')['perplexities'][0]\n",
        "\n",
        "print(f'User Input: {input_text}')\n",
        "print('Generated Output:')\n",
        "print_result(output_xlnet[0], tokenizer_xlnet)\n",
        "print(f\"Perplexity: {perplexity_xlnet}\")"
      ],
      "metadata": {
        "colab": {
          "base_uri": "https://localhost:8080/",
          "height": 170,
          "referenced_widgets": [
            "ed3194117bb74d0e903b415c1bad0dc9",
            "fe06483224f84940b460fa75a864fdc3",
            "d66cbad70dbd478daaaedcb727ff0710",
            "823f1039750c42f0b6443aa41d47f68d",
            "d0827744c24e45f1800fb65c0584732b",
            "e6b4b59b72844c69abc61aefae8fa542",
            "c13ba6493aae47b98d92a094c12cdc73",
            "d11eaf1fe8c649ae9a20a50d45858e12",
            "9f221ba3fe894879975be9b95790da3e",
            "e9f5255379cb452187ddf07fa2a04f5e",
            "f544c9d4026840f8a57536eaeb1056c3"
          ]
        },
        "id": "MzdWKYcrg8Py",
        "outputId": "85dcbd09-01bf-452d-da45-02bbad64fec0"
      },
      "execution_count": 67,
      "outputs": [
        {
          "output_type": "display_data",
          "data": {
            "text/plain": [
              "  0%|          | 0/1 [00:00<?, ?it/s]"
            ],
            "application/vnd.jupyter.widget-view+json": {
              "version_major": 2,
              "version_minor": 0,
              "model_id": "ed3194117bb74d0e903b415c1bad0dc9"
            }
          },
          "metadata": {}
        },
        {
          "output_type": "stream",
          "name": "stdout",
          "text": [
            "User Input: My favorite food is \n",
            "Generated Output:\n",
            "------------------------------------------------------------------------------------------------------------------------\n",
            "| My favorite food is as good and as a once be by when some how in all everything because of kind or back either which |\n",
            "| the better it to get for you on any front no ones always back around again though up more time even if there has     |\n",
            "------------------------------------------------------------------------------------------------------------------------\n",
            "Perplexity: 561.1319580078125\n"
          ]
        }
      ]
    }
  ]
}